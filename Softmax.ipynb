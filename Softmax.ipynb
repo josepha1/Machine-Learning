{
 "cells": [
  {
   "cell_type": "code",
   "execution_count": 1,
   "metadata": {},
   "outputs": [],
   "source": [
    "import numpy as np\n",
    "\n",
    "def Softmax(L):\n",
    "    '''\n",
    "    INPUTS:\n",
    "    L - List of numbers \n",
    "    \n",
    "    returns: List of numbers given by the softmax function\n",
    "    '''\n",
    "    values = []\n",
    "    for i in L:\n",
    "        values.append((np.exp(i)) / np.sum(np.exp(L)))\n",
    "    return values"
   ]
  }
 ],
 "metadata": {
  "kernelspec": {
   "display_name": "Python 3",
   "language": "python",
   "name": "python3"
  },
  "language_info": {
   "codemirror_mode": {
    "name": "ipython",
    "version": 3
   },
   "file_extension": ".py",
   "mimetype": "text/x-python",
   "name": "python",
   "nbconvert_exporter": "python",
   "pygments_lexer": "ipython3",
   "version": "3.7.3"
  }
 },
 "nbformat": 4,
 "nbformat_minor": 2
}
