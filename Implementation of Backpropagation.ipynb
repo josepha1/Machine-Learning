{
 "cells": [
  {
   "cell_type": "markdown",
   "metadata": {},
   "source": [
    "## Data Preparation"
   ]
  },
  {
   "cell_type": "code",
   "execution_count": 15,
   "metadata": {},
   "outputs": [],
   "source": [
    "import pandas as pd\n",
    "import numpy as np\n",
    "\n",
    "admissions = pd.read_csv('student_data.csv')\n",
    "\n",
    "# Create dummy variables for the 'rank' feature\n",
    "data = pd.concat([admissions, pd.get_dummies(admissions['rank'], prefix = 'rank')], axis = 1)\n",
    "data = data.drop('rank', axis = 1)\n",
    "\n",
    "# Standardize the 'gre' and 'gpa' features\n",
    "for field in ['gre', 'gpa']:\n",
    "    mean, std = data[field].mean(), data[field].std()\n",
    "    data.loc[:,field] = (data[field] - mean) / std\n",
    "    \n",
    "#Split off random 10% of the data for testing\n",
    "np.random.seed(21)\n",
    "sample = np.random.choice(data.index, size = int(len(data) * 0.9), replace = False)\n",
    "train_data, test_data = data.iloc[sample], data.drop(sample)\n",
    "\n",
    "#Split into features and targets\n",
    "features, targets = data.drop('admit', axis = 1), data['admit']\n",
    "features_test, targets_test = test_data.drop('admit', axis = 1), test_data['admit']\n",
    "                          "
   ]
  },
  {
   "cell_type": "markdown",
   "metadata": {},
   "source": [
    "## Backpropagation"
   ]
  },
  {
   "cell_type": "code",
   "execution_count": 26,
   "metadata": {},
   "outputs": [
    {
     "name": "stdout",
     "output_type": "stream",
     "text": [
      "Train loss:  0.24372859910856\n",
      "Train loss:  0.24314031034270805\n",
      "Train loss:  0.24256829386141665\n",
      "Train loss:  0.24201208909217223\n",
      "Train loss:  0.24147124615323748\n",
      "Train loss:  0.24094532587452736\n",
      "Train loss:  0.2404338997886882\n",
      "Train loss:  0.2399365500952694\n",
      "Train loss:  0.2394528696006447\n",
      "Train loss:  0.2389824616362671\n",
      "Prediction accuracy: 0.650\n"
     ]
    }
   ],
   "source": [
    "def sigmoid(x):\n",
    "    return 1 / (1 + np.exp(-x))\n",
    "\n",
    "# Hyperparameters\n",
    "n_hidden = 2 # Number of hidden nodes\n",
    "epochs = 900\n",
    "learn_rate = 0.005\n",
    "\n",
    "n_records, n_features = features.shape\n",
    "last_loss = None\n",
    "\n",
    "# Initialize Weights\n",
    "weights_input_hidden = np.random.normal(scale = n_features**-0.5, size = (n_features, n_hidden))\n",
    "weights_hidden_output = np.random.normal(scale = n_features**-0.5, size = n_hidden)\n",
    "\n",
    "for e in range(epochs):\n",
    "    delta_w_input_hidden = np.zeros(weights_input_hidden.shape)\n",
    "    delta_w_hidden_output = np.zeros(weights_hidden_output.shape)\n",
    "    for x,y in zip(features.values, targets):\n",
    "        ##Forward Pass##\n",
    "        hidden_input = np.dot(x, weights_input_hidden)\n",
    "        hidden_output = sigmoid(hidden_input)\n",
    "        output = sigmoid(np.dot(hidden_output, weights_hidden_output))\n",
    "        \n",
    "        ##Backward Pass##\n",
    "        # Neural network's prediction error\n",
    "        error = (y - output)\n",
    "        \n",
    "        # Error term for the output node\n",
    "        output_error_term = error * output * (1 - output)\n",
    "        \n",
    "        ## Propagate errors to the hidden layer ##\n",
    "        # Calculate the hidden layer's contribution to the error\n",
    "        hidden_error = np.dot(output_error_term, weights_hidden_output)\n",
    "        \n",
    "        # Calculate the hidden error term\n",
    "        hidden_error_term = hidden_error * hidden_output * (1 - hidden_output)\n",
    "        \n",
    "        # Update the change in weights\n",
    "        delta_w_hidden_output += output_error_term * hidden_output\n",
    "        delta_w_input_hidden += hidden_error_term * x[:, None]\n",
    "        \n",
    "    # Update the weights\n",
    "    weights_input_hidden += (learn_rate * delta_w_input_hidden) / n_records\n",
    "    weights_hidden_output += (learn_rate * delta_w_hidden_output) / n_records\n",
    "    \n",
    "     # Printing out the mean square error on the training set\n",
    "    if e % (epochs / 10) == 0:\n",
    "        hidden_output = sigmoid(np.dot(x, weights_input_hidden))\n",
    "        out = sigmoid(np.dot(hidden_output,\n",
    "                             weights_hidden_output))\n",
    "        loss = np.mean((out - targets) ** 2)\n",
    "\n",
    "        if last_loss and last_loss < loss:\n",
    "            print(\"Train loss: \", loss, \"  WARNING - Loss Increasing\")\n",
    "        else:\n",
    "            print(\"Train loss: \", loss)\n",
    "        last_loss = loss\n",
    "\n",
    "# Calculate accuracy on test data\n",
    "hidden = sigmoid(np.dot(features_test, weights_input_hidden))\n",
    "out = sigmoid(np.dot(hidden, weights_hidden_output))\n",
    "predictions = out > 0.5\n",
    "accuracy = np.mean(predictions == targets_test)\n",
    "print(\"Prediction accuracy: {:.3f}\".format(accuracy))\n",
    "        "
   ]
  },
  {
   "cell_type": "code",
   "execution_count": null,
   "metadata": {},
   "outputs": [],
   "source": []
  }
 ],
 "metadata": {
  "kernelspec": {
   "display_name": "Python 3",
   "language": "python",
   "name": "python3"
  },
  "language_info": {
   "codemirror_mode": {
    "name": "ipython",
    "version": 3
   },
   "file_extension": ".py",
   "mimetype": "text/x-python",
   "name": "python",
   "nbconvert_exporter": "python",
   "pygments_lexer": "ipython3",
   "version": "3.7.3"
  }
 },
 "nbformat": 4,
 "nbformat_minor": 2
}
