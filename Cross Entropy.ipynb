{
 "cells": [
  {
   "cell_type": "code",
   "execution_count": null,
   "metadata": {},
   "outputs": [],
   "source": [
    "import numpy as np\n",
    "\n",
    "def cross_entropy(Y,P):\n",
    "    '''\n",
    "    INPUTS: \n",
    "    Y - List of labels associated with each event\n",
    "    P - List of probabilities associated with each event\n",
    "    \n",
    "    RETURNS:\n",
    "    The float corresponding to the cross-entropy \n",
    "    '''\n",
    "    \n",
    "    CE = 0.0\n",
    "    for i in range(len(Y)):\n",
    "        CE -= (Y[i] * np.log(P[i])) + ((1 - Y[i]) * np.log(1 - P[i]))\n",
    "    return CE"
   ]
  }
 ],
 "metadata": {
  "kernelspec": {
   "display_name": "Python 3",
   "language": "python",
   "name": "python3"
  },
  "language_info": {
   "codemirror_mode": {
    "name": "ipython",
    "version": 3
   },
   "file_extension": ".py",
   "mimetype": "text/x-python",
   "name": "python",
   "nbconvert_exporter": "python",
   "pygments_lexer": "ipython3",
   "version": "3.7.3"
  }
 },
 "nbformat": 4,
 "nbformat_minor": 2
}
