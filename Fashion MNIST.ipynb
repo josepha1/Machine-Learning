{
 "cells": [
  {
   "cell_type": "markdown",
   "metadata": {},
   "source": [
    "# Classifying Fashion-MNIST\n",
    "\n",
    "Now it's your turn to build and train a neural network. You'll be using the [Fashion-MNIST dataset](https://github.com/zalandoresearch/fashion-mnist), a drop-in replacement for the MNIST dataset. MNIST is actually quite trivial with neural networks where you can easily achieve better than 97% accuracy. Fashion-MNIST is a set of 28x28 greyscale images of clothes. It's more complex than MNIST, so it's a better representation of the actual performance of your network, and a better representation of datasets you'll use in the real world.\n",
    "\n",
    "<img src='assets/fashion-mnist-sprite.png' width=500px>\n",
    "\n",
    "In this notebook, you'll build your own neural network. For the most part, you could just copy and paste the code from Part 3, but you wouldn't be learning. It's important for you to write the code yourself and get it to work. Feel free to consult the previous notebooks though as you work through this.\n",
    "\n",
    "First off, let's import our resources and download the Fashion-MNIST dataset from `tensorflow_datasets`. "
   ]
  },
  {
   "cell_type": "markdown",
   "metadata": {},
   "source": [
    "## Import Resources"
   ]
  },
  {
   "cell_type": "code",
   "execution_count": 1,
   "metadata": {},
   "outputs": [],
   "source": [
    "import warnings\n",
    "warnings.filterwarnings('ignore')"
   ]
  },
  {
   "cell_type": "code",
   "execution_count": 3,
   "metadata": {},
   "outputs": [],
   "source": [
    "%matplotlib inline\n",
    "%config InlineBackend.figure_format = 'retina'\n",
    "\n",
    "import numpy as np\n",
    "import matplotlib.pyplot as plt\n",
    "\n",
    "import tensorflow as tf\n",
    "import tensorflow_datasets as tfds\n",
    "tfds.disable_progress_bar()"
   ]
  },
  {
   "cell_type": "code",
   "execution_count": 4,
   "metadata": {},
   "outputs": [],
   "source": [
    "import logging\n",
    "logger = tf.get_logger()\n",
    "logger.setLevel(logging.ERROR)"
   ]
  },
  {
   "cell_type": "code",
   "execution_count": 6,
   "metadata": {},
   "outputs": [
    {
     "name": "stdout",
     "output_type": "stream",
     "text": [
      "Using:\n",
      "\t• TensorFlow version: 2.1.0\n",
      "\t• tf.keras.version: 2.2.4-tf\n",
      "\t• GPU device not found. Running on CPU\n"
     ]
    }
   ],
   "source": [
    "print('Using:')\n",
    "print(f'\\t\\u2022 TensorFlow version: {tf.__version__}')\n",
    "print(f'\\t\\u2022 tf.keras.version: {tf.keras.__version__}')\n",
    "print('\\t\\u2022 Running of GPU' if tf.test.is_gpu_available() else '\\t\\u2022 GPU device not found. Running on CPU')"
   ]
  },
  {
   "cell_type": "markdown",
   "metadata": {},
   "source": [
    "## Load the Dataset\n",
    "\n",
    "We are now going to load the Fashion-MNIST dataset using `tensorflow_datasets` as we've done before. In this case, however, we are going to omit the `split` argument.  This means that `tensorflow_datasets` will use the default value for `split` which is `split=None`. When `split=None`, `tensorflow_datasets` returns a **dictionary** with all the splits available for the dataset you are loading. However, if the split is given explicitly, such as `split='train'`, then `tensorflow_datasets` returns a `tf.data.Dataset` object.\n",
    "\n",
    "In our case, we are going to load the `fashion_mnist` dataset. If we look at the [documentation](https://www.tensorflow.org/datasets/catalog/fashion_mnist#statistics) we will see that this particular dataset has 2 splits, namely a `train` and a `test` slipt. We also see that the `train` split has 60,000 examples, and that the `test` split has 10,000 examples. \n",
    "\n",
    "Now, let's load the `fashion_mnist` dataset and inspect the returned values."
   ]
  },
  {
   "cell_type": "code",
   "execution_count": 7,
   "metadata": {},
   "outputs": [
    {
     "name": "stdout",
     "output_type": "stream",
     "text": [
      "Downloading and preparing dataset fashion_mnist/3.0.0 (download: 29.45 MiB, generated: Unknown size, total: 29.45 MiB) to C:\\Users\\josep\\AppData\\Roaming\\SPB_Data\\tensorflow_datasets\\fashion_mnist\\3.0.0...\n",
      "Shuffling and writing examples to C:\\Users\\josep\\AppData\\Roaming\\SPB_Data\\tensorflow_datasets\\fashion_mnist\\3.0.0.incomplete5PIYD8\\fashion_mnist-train.tfrecord\n",
      "Shuffling and writing examples to C:\\Users\\josep\\AppData\\Roaming\\SPB_Data\\tensorflow_datasets\\fashion_mnist\\3.0.0.incomplete5PIYD8\\fashion_mnist-test.tfrecord\n",
      "Dataset fashion_mnist downloaded and prepared to C:\\Users\\josep\\AppData\\Roaming\\SPB_Data\\tensorflow_datasets\\fashion_mnist\\3.0.0. Subsequent calls will reuse this data.\n"
     ]
    }
   ],
   "source": [
    "dataset, dataset_info =tfds.load('fashion_mnist', as_supervised = True, with_info = True)"
   ]
  },
  {
   "cell_type": "code",
   "execution_count": 9,
   "metadata": {},
   "outputs": [
    {
     "name": "stdout",
     "output_type": "stream",
     "text": [
      "dataset has type: <class 'dict'>\n",
      "\n",
      "The keys of the dataset are: ['test', 'train']\n"
     ]
    }
   ],
   "source": [
    "# Check that dataset is a dictionary\n",
    "print(f'dataset has type: {type(dataset)}')\n",
    "\n",
    "# Print the keys of the dataset dictionary\n",
    "print(f'\\nThe keys of the dataset are: {list(dataset.keys())}')"
   ]
  },
  {
   "cell_type": "markdown",
   "metadata": {},
   "source": [
    "In the cell below, we are going to save the training data and the test data into different variables."
   ]
  },
  {
   "cell_type": "code",
   "execution_count": 10,
   "metadata": {},
   "outputs": [],
   "source": [
    "training_set, test_set = dataset['train'], dataset['test']"
   ]
  },
  {
   "cell_type": "markdown",
   "metadata": {},
   "source": [
    "Now, let's take a look at the `dataset_info`"
   ]
  },
  {
   "cell_type": "code",
   "execution_count": 11,
   "metadata": {},
   "outputs": [
    {
     "data": {
      "text/plain": [
       "tfds.core.DatasetInfo(\n",
       "    name='fashion_mnist',\n",
       "    version=3.0.0,\n",
       "    description='Fashion-MNIST is a dataset of Zalando's article images consisting of a training set of 60,000 examples and a test set of 10,000 examples. Each example is a 28x28 grayscale image, associated with a label from 10 classes.',\n",
       "    homepage='https://github.com/zalandoresearch/fashion-mnist',\n",
       "    features=FeaturesDict({\n",
       "        'image': Image(shape=(28, 28, 1), dtype=tf.uint8),\n",
       "        'label': ClassLabel(shape=(), dtype=tf.int64, num_classes=10),\n",
       "    }),\n",
       "    total_num_examples=70000,\n",
       "    splits={\n",
       "        'test': 10000,\n",
       "        'train': 60000,\n",
       "    },\n",
       "    supervised_keys=('image', 'label'),\n",
       "    citation=\"\"\"@article{DBLP:journals/corr/abs-1708-07747,\n",
       "      author    = {Han Xiao and\n",
       "                   Kashif Rasul and\n",
       "                   Roland Vollgraf},\n",
       "      title     = {Fashion-MNIST: a Novel Image Dataset for Benchmarking Machine Learning\n",
       "                   Algorithms},\n",
       "      journal   = {CoRR},\n",
       "      volume    = {abs/1708.07747},\n",
       "      year      = {2017},\n",
       "      url       = {http://arxiv.org/abs/1708.07747},\n",
       "      archivePrefix = {arXiv},\n",
       "      eprint    = {1708.07747},\n",
       "      timestamp = {Mon, 13 Aug 2018 16:47:27 +0200},\n",
       "      biburl    = {https://dblp.org/rec/bib/journals/corr/abs-1708-07747},\n",
       "      bibsource = {dblp computer science bibliography, https://dblp.org}\n",
       "    }\"\"\",\n",
       "    redistribution_info=,\n",
       ")"
      ]
     },
     "execution_count": 11,
     "metadata": {},
     "output_type": "execute_result"
    }
   ],
   "source": [
    "# Display the dataset_info\n",
    "dataset_info"
   ]
  },
  {
   "cell_type": "markdown",
   "metadata": {},
   "source": [
    "We can access the information in `dataset_info` very easily. As we can see, the `features` and `splits` info are contained in dictionaries. We can access the information we want by accessing the particular key and value in these dictionaries. We start by looking at the values of particular keys in these dictionaries:"
   ]
  },
  {
   "cell_type": "code",
   "execution_count": 12,
   "metadata": {},
   "outputs": [
    {
     "data": {
      "text/plain": [
       "Image(shape=(28, 28, 1), dtype=tf.uint8)"
      ]
     },
     "execution_count": 12,
     "metadata": {},
     "output_type": "execute_result"
    }
   ],
   "source": [
    "dataset_info.features['image']"
   ]
  },
  {
   "cell_type": "code",
   "execution_count": 13,
   "metadata": {},
   "outputs": [
    {
     "data": {
      "text/plain": [
       "ClassLabel(shape=(), dtype=tf.int64, num_classes=10)"
      ]
     },
     "execution_count": 13,
     "metadata": {},
     "output_type": "execute_result"
    }
   ],
   "source": [
    "dataset_info.features['label']"
   ]
  },
  {
   "cell_type": "code",
   "execution_count": 14,
   "metadata": {},
   "outputs": [
    {
     "data": {
      "text/plain": [
       "<tfds.core.SplitInfo num_examples=60000>"
      ]
     },
     "execution_count": 14,
     "metadata": {},
     "output_type": "execute_result"
    }
   ],
   "source": [
    "dataset_info.splits['train']"
   ]
  },
  {
   "cell_type": "markdown",
   "metadata": {},
   "source": [
    "We can now use dot notation to access the information we want. Below are some examples. "
   ]
  },
  {
   "cell_type": "code",
   "execution_count": 15,
   "metadata": {},
   "outputs": [
    {
     "name": "stdout",
     "output_type": "stream",
     "text": [
      "There are 10 classes in our dataset\n",
      "The images in our dataset have shape: (28, 28, 1)\n",
      "\n",
      "There are 10000 images in our test set\n",
      "There are 60000 images in our training set\n"
     ]
    }
   ],
   "source": [
    "shape_images = dataset_info.features['image'].shape\n",
    "num_classes = dataset_info.features['label'].num_classes\n",
    "\n",
    "num_training_examples = dataset_info.splits['train'].num_examples\n",
    "num_test_examples = dataset_info.splits['test'].num_examples\n",
    "\n",
    "print(f'There are {num_classes} classes in our dataset')\n",
    "print(f'The images in our dataset have shape: {shape_images}')\n",
    "print(f'\\nThere are {num_test_examples} images in our test set')\n",
    "print(f'There are {num_training_examples} images in our training set')"
   ]
  },
  {
   "cell_type": "markdown",
   "metadata": {},
   "source": [
    "## Explore the Dataset\n",
    "\n",
    "The images in this dataset are 28 $\\times$ 28 arrays, with pixel values in the range `[0, 255]`. The *labels* are an array of integers, in the range `[0, 9]`. These correspond to the *class* of clothing the image represents:\n",
    "\n",
    "<table>\n",
    "  <tr>\n",
    "    <th>Label</th>\n",
    "    <th>Class</th> \n",
    "  </tr>\n",
    "  <tr>\n",
    "    <td>0</td>\n",
    "    <td>T-shirt/top</td> \n",
    "  </tr>\n",
    "  <tr>\n",
    "    <td>1</td>\n",
    "    <td>Trouser</td> \n",
    "  </tr>\n",
    "    <tr>\n",
    "    <td>2</td>\n",
    "    <td>Pullover</td> \n",
    "  </tr>\n",
    "    <tr>\n",
    "    <td>3</td>\n",
    "    <td>Dress</td> \n",
    "  </tr>\n",
    "    <tr>\n",
    "    <td>4</td>\n",
    "    <td>Coat</td> \n",
    "  </tr>\n",
    "    <tr>\n",
    "    <td>5</td>\n",
    "    <td>Sandal</td> \n",
    "  </tr>\n",
    "    <tr>\n",
    "    <td>6</td>\n",
    "    <td>Shirt</td> \n",
    "  </tr>\n",
    "    <tr>\n",
    "    <td>7</td>\n",
    "    <td>Sneaker</td> \n",
    "  </tr>\n",
    "    <tr>\n",
    "    <td>8</td>\n",
    "    <td>Bag</td> \n",
    "  </tr>\n",
    "    <tr>\n",
    "    <td>9</td>\n",
    "    <td>Ankle boot</td> \n",
    "  </tr>\n",
    "</table>\n",
    "\n",
    "Each image is mapped to a single label. Since the *class names* are not included with the dataset, we create them here to use later when plotting the images:"
   ]
  },
  {
   "cell_type": "code",
   "execution_count": 16,
   "metadata": {},
   "outputs": [],
   "source": [
    "class_names = ['T-shirt/top', 'Trouser', 'Pullover', 'Dress', 'Coat', 'Sandal', 'Shirt', 'Sneaker'\n",
    "               'Bag', 'Ankle Boot']"
   ]
  },
  {
   "cell_type": "code",
   "execution_count": 18,
   "metadata": {},
   "outputs": [
    {
     "name": "stdout",
     "output_type": "stream",
     "text": [
      "The label of this image is: 2\n",
      "The class name of this image is: Pullover\n"
     ]
    },
    {
     "data": {
      "image/png": "[encoded data removed]",
      "text/plain": [
       "<Figure size 432x288 with 2 Axes>"
      ]
     },
     "metadata": {
      "image/png": {
       "height": 248,
       "width": 305
      },
      "needs_background": "light"
     },
     "output_type": "display_data"
    }
   ],
   "source": [
    "for image, label in training_set.take(1):\n",
    "    image = image.numpy().squeeze()\n",
    "    label = label.numpy()\n",
    "    \n",
    "plt.imshow(image, cmap = plt.cm.binary)\n",
    "plt.colorbar()\n",
    "plt.show\n",
    "\n",
    "print(f'The label of this image is: {label}')\n",
    "print(f'The class name of this image is: {class_names[label]}')"
   ]
  },
  {
   "cell_type": "markdown",
   "metadata": {},
   "source": [
    "## Create Pipeline"
   ]
  },
  {
   "cell_type": "code",
   "execution_count": 20,
   "metadata": {},
   "outputs": [],
   "source": [
    "def normalize(image, label):\n",
    "    image = tf.cast(image, tf.float32)\n",
    "    image /= 255\n",
    "    return image, label\n",
    "\n",
    "batch_size = 64\n",
    "training_batch = training_set.cache().shuffle(num_training_examples // 4).batch(batch_size).map(normalize).prefetch(1)\n",
    "testing_batch = test_set.cache().batch(batch_size).map(normalize).prefetch(1)"
   ]
  },
  {
   "cell_type": "markdown",
   "metadata": {},
   "source": [
    "## Build the Model\n",
    "\n",
    "> **Exercise:** Here you should define your own neural network. Feel free to create a model with as many layers and neurons as you like. You should keep in mind that as with MNIST, each image is 28 $\\times$ 28 which is a total of 784 pixels, and there are 10 classes. Your model should include at least one hidden layer. We suggest you use ReLU activation functions for the hidden layers and a softmax activation function for the output layer."
   ]
  },
  {
   "cell_type": "code",
   "execution_count": 22,
   "metadata": {},
   "outputs": [
    {
     "name": "stdout",
     "output_type": "stream",
     "text": [
      "Model: \"sequential\"\n",
      "_________________________________________________________________\n",
      "Layer (type)                 Output Shape              Param #   \n",
      "=================================================================\n",
      "flatten_1 (Flatten)          (None, 784)               0         \n",
      "_________________________________________________________________\n",
      "dense_1 (Dense)              (None, 128)               100480    \n",
      "_________________________________________________________________\n",
      "dense_2 (Dense)              (None, 64)                8256      \n",
      "_________________________________________________________________\n",
      "dense_3 (Dense)              (None, 32)                2080      \n",
      "_________________________________________________________________\n",
      "dense_4 (Dense)              (None, 10)                330       \n",
      "=================================================================\n",
      "Total params: 111,146\n",
      "Trainable params: 111,146\n",
      "Non-trainable params: 0\n",
      "_________________________________________________________________\n"
     ]
    }
   ],
   "source": [
    "model = tf.keras.Sequential([\n",
    "        tf.keras.layers.Flatten(input_shape = (28,28,1)), \n",
    "        tf.keras.layers.Dense(128, activation = 'relu'), \n",
    "        tf.keras.layers.Dense(64, activation = 'relu'),\n",
    "        tf.keras.layers.Dense(32, activation = 'relu'),\n",
    "        tf.keras.layers.Dense(10, activation = 'softmax')\n",
    "])\n",
    "\n",
    "model.summary()"
   ]
  },
  {
   "cell_type": "markdown",
   "metadata": {},
   "source": [
    "## Train the Model\n",
    "\n",
    "> **Exercise:** Compile the model you created above using an `adam` optimizer, a `sparse_categorical_crossentropy` loss function, and the `accuracy` metric. Then train the model for 5 epochs. You should be able to get the training loss below 0.4."
   ]
  },
  {
   "cell_type": "code",
   "execution_count": 24,
   "metadata": {},
   "outputs": [
    {
     "name": "stdout",
     "output_type": "stream",
     "text": [
      "Epoch 1/5\n",
      "    174/Unknown - 0s 363ms/step - loss: 0.2995 - accuracy: 0.890 - 0s 185ms/step - loss: 0.3907 - accuracy: 0.867 - 0s 126ms/step - loss: 0.3724 - accuracy: 0.880 - 0s 97ms/step - loss: 0.3614 - accuracy: 0.882 - 0s 79ms/step - loss: 0.3743 - accuracy: 0.87 - 0s 67ms/step - loss: 0.3955 - accuracy: 0.86 - 0s 59ms/step - loss: 0.3770 - accuracy: 0.87 - 0s 53ms/step - loss: 0.3552 - accuracy: 0.88 - 0s 49ms/step - loss: 0.3408 - accuracy: 0.88 - 0s 45ms/step - loss: 0.3377 - accuracy: 0.88 - 0s 42ms/step - loss: 0.3289 - accuracy: 0.89 - 0s 39ms/step - loss: 0.3275 - accuracy: 0.88 - 0s 36ms/step - loss: 0.3296 - accuracy: 0.88 - 0s 34ms/step - loss: 0.3257 - accuracy: 0.88 - 0s 33ms/step - loss: 0.3150 - accuracy: 0.89 - 1s 31ms/step - loss: 0.3126 - accuracy: 0.88 - 1s 30ms/step - loss: 0.3193 - accuracy: 0.88 - 1s 29ms/step - loss: 0.3287 - accuracy: 0.88 - 1s 28ms/step - loss: 0.3260 - accuracy: 0.88 - 1s 27ms/step - loss: 0.3273 - accuracy: 0.88 - 1s 26ms/step - loss: 0.3232 - accuracy: 0.88 - 1s 25ms/step - loss: 0.3288 - accuracy: 0.87 - 1s 25ms/step - loss: 0.3307 - accuracy: 0.87 - 1s 24ms/step - loss: 0.3250 - accuracy: 0.87 - 1s 23ms/step - loss: 0.3242 - accuracy: 0.87 - 1s 23ms/step - loss: 0.3243 - accuracy: 0.87 - 1s 22ms/step - loss: 0.3288 - accuracy: 0.87 - 1s 22ms/step - loss: 0.3244 - accuracy: 0.87 - 1s 22ms/step - loss: 0.3192 - accuracy: 0.88 - 1s 21ms/step - loss: 0.3193 - accuracy: 0.88 - 1s 21ms/step - loss: 0.3169 - accuracy: 0.88 - 1s 20ms/step - loss: 0.3119 - accuracy: 0.88 - 1s 20ms/step - loss: 0.3151 - accuracy: 0.88 - 1s 20ms/step - loss: 0.3170 - accuracy: 0.88 - 1s 20ms/step - loss: 0.3172 - accuracy: 0.88 - 1s 19ms/step - loss: 0.3255 - accuracy: 0.88 - 1s 19ms/step - loss: 0.3241 - accuracy: 0.88 - 1s 19ms/step - loss: 0.3201 - accuracy: 0.88 - 1s 19ms/step - loss: 0.3158 - accuracy: 0.88 - 1s 18ms/step - loss: 0.3139 - accuracy: 0.88 - 1s 18ms/step - loss: 0.3135 - accuracy: 0.88 - 1s 18ms/step - loss: 0.3150 - accuracy: 0.88 - 1s 18ms/step - loss: 0.3116 - accuracy: 0.88 - 1s 18ms/step - loss: 0.3150 - accuracy: 0.88 - 1s 17ms/step - loss: 0.3123 - accuracy: 0.88 - 1s 17ms/step - loss: 0.3115 - accuracy: 0.88 - 1s 17ms/step - loss: 0.3090 - accuracy: 0.88 - 1s 17ms/step - loss: 0.3096 - accuracy: 0.88 - 1s 17ms/step - loss: 0.3106 - accuracy: 0.88 - 1s 17ms/step - loss: 0.3078 - accuracy: 0.88 - 1s 16ms/step - loss: 0.3056 - accuracy: 0.88 - 1s 16ms/step - loss: 0.3028 - accuracy: 0.88 - 1s 16ms/step - loss: 0.3034 - accuracy: 0.88 - 1s 16ms/step - loss: 0.3035 - accuracy: 0.88 - 1s 16ms/step - loss: 0.3007 - accuracy: 0.88 - 1s 16ms/step - loss: 0.3039 - accuracy: 0.88 - 1s 16ms/step - loss: 0.3056 - accuracy: 0.88 - 1s 16ms/step - loss: 0.3028 - accuracy: 0.88 - 1s 16ms/step - loss: 0.3036 - accuracy: 0.88 - 1s 16ms/step - loss: 0.3044 - accuracy: 0.88 - 1s 15ms/step - loss: 0.3046 - accuracy: 0.88 - 1s 15ms/step - loss: 0.3046 - accuracy: 0.88 - 1s 15ms/step - loss: 0.3064 - accuracy: 0.88 - 1s 15ms/step - loss: 0.3062 - accuracy: 0.88 - 1s 15ms/step - loss: 0.3040 - accuracy: 0.88 - 1s 15ms/step - loss: 0.3030 - accuracy: 0.88 - 1s 15ms/step - loss: 0.3027 - accuracy: 0.88 - 1s 15ms/step - loss: 0.3028 - accuracy: 0.88 - 1s 15ms/step - loss: 0.3017 - accuracy: 0.88 - 1s 15ms/step - loss: 0.3004 - accuracy: 0.88 - 1s 15ms/step - loss: 0.3006 - accuracy: 0.88 - 1s 15ms/step - loss: 0.2993 - accuracy: 0.88 - 1s 15ms/step - loss: 0.2999 - accuracy: 0.88 - 1s 15ms/step - loss: 0.2989 - accuracy: 0.88 - 1s 14ms/step - loss: 0.3002 - accuracy: 0.88 - 1s 14ms/step - loss: 0.3001 - accuracy: 0.88 - 1s 14ms/step - loss: 0.3011 - accuracy: 0.88 - 1s 14ms/step - loss: 0.3014 - accuracy: 0.88 - 1s 14ms/step - loss: 0.3004 - accuracy: 0.88 - 1s 14ms/step - loss: 0.3003 - accuracy: 0.88 - 1s 14ms/step - loss: 0.3014 - accuracy: 0.88 - 1s 14ms/step - loss: 0.3021 - accuracy: 0.88 - 1s 14ms/step - loss: 0.3027 - accuracy: 0.88 - 1s 14ms/step - loss: 0.3028 - accuracy: 0.88 - 1s 14ms/step - loss: 0.3022 - accuracy: 0.88 - 1s 14ms/step - loss: 0.3024 - accuracy: 0.88 - 1s 14ms/step - loss: 0.3006 - accuracy: 0.88 - 1s 14ms/step - loss: 0.2999 - accuracy: 0.88 - 1s 14ms/step - loss: 0.3008 - accuracy: 0.88 - 1s 14ms/step - loss: 0.3009 - accuracy: 0.88 - 1s 14ms/step - loss: 0.2996 - accuracy: 0.88 - 1s 14ms/step - loss: 0.2975 - accuracy: 0.88 - 1s 14ms/step - loss: 0.2965 - accuracy: 0.88 - 1s 14ms/step - loss: 0.2960 - accuracy: 0.88 - 1s 14ms/step - loss: 0.2963 - accuracy: 0.88 - 1s 13ms/step - loss: 0.2962 - accuracy: 0.88 - 1s 13ms/step - loss: 0.2962 - accuracy: 0.88 - 1s 13ms/step - loss: 0.2965 - accuracy: 0.88 - 1s 13ms/step - loss: 0.2974 - accuracy: 0.88 - 1s 13ms/step - loss: 0.2970 - accuracy: 0.88 - 1s 13ms/step - loss: 0.2965 - accuracy: 0.88 - 1s 13ms/step - loss: 0.2989 - accuracy: 0.88 - 1s 13ms/step - loss: 0.2978 - accuracy: 0.88 - 1s 13ms/step - loss: 0.2964 - accuracy: 0.88 - 1s 13ms/step - loss: 0.2956 - accuracy: 0.88 - 1s 13ms/step - loss: 0.2962 - accuracy: 0.88 - 1s 13ms/step - loss: 0.2966 - accuracy: 0.88 - 1s 13ms/step - loss: 0.2975 - accuracy: 0.88 - 1s 13ms/step - loss: 0.2970 - accuracy: 0.88 - 1s 13ms/step - loss: 0.2957 - accuracy: 0.88 - 1s 13ms/step - loss: 0.2967 - accuracy: 0.88 - 1s 13ms/step - loss: 0.2966 - accuracy: 0.88 - 1s 13ms/step - loss: 0.2959 - accuracy: 0.88 - 1s 13ms/step - loss: 0.2952 - accuracy: 0.88 - 1s 13ms/step - loss: 0.2950 - accuracy: 0.88 - 1s 13ms/step - loss: 0.2947 - accuracy: 0.88 - 1s 13ms/step - loss: 0.2946 - accuracy: 0.88 - 2s 13ms/step - loss: 0.2942 - accuracy: 0.88 - 2s 13ms/step - loss: 0.2952 - accuracy: 0.88 - 2s 13ms/step - loss: 0.2955 - accuracy: 0.88 - 2s 13ms/step - loss: 0.2951 - accuracy: 0.88 - 2s 13ms/step - loss: 0.2943 - accuracy: 0.88 - 2s 13ms/step - loss: 0.2947 - accuracy: 0.88 - 2s 13ms/step - loss: 0.2940 - accuracy: 0.88 - 2s 13ms/step - loss: 0.2947 - accuracy: 0.88 - 2s 13ms/step - loss: 0.2941 - accuracy: 0.88 - 2s 12ms/step - loss: 0.2962 - accuracy: 0.88 - 2s 12ms/step - loss: 0.2952 - accuracy: 0.88 - 2s 12ms/step - loss: 0.2957 - accuracy: 0.88 - 2s 12ms/step - loss: 0.2959 - accuracy: 0.88 - 2s 12ms/step - loss: 0.2972 - accuracy: 0.88 - 2s 12ms/step - loss: 0.2963 - accuracy: 0.88 - 2s 12ms/step - loss: 0.2971 - accuracy: 0.88 - 2s 12ms/step - loss: 0.2964 - accuracy: 0.88 - 2s 12ms/step - loss: 0.2960 - accuracy: 0.88 - 2s 12ms/step - loss: 0.2960 - accuracy: 0.88 - 2s 12ms/step - loss: 0.2957 - accuracy: 0.88 - 2s 12ms/step - loss: 0.2958 - accuracy: 0.88 - 2s 12ms/step - loss: 0.2972 - accuracy: 0.88 - 2s 12ms/step - loss: 0.2968 - accuracy: 0.88 - 2s 12ms/step - loss: 0.2964 - accuracy: 0.88 - 2s 12ms/step - loss: 0.2965 - accuracy: 0.88 - 2s 12ms/step - loss: 0.2971 - accuracy: 0.88 - 2s 12ms/step - loss: 0.2963 - accuracy: 0.88 - 2s 12ms/step - loss: 0.2961 - accuracy: 0.88 - 2s 12ms/step - loss: 0.2959 - accuracy: 0.88 - 2s 12ms/step - loss: 0.2963 - accuracy: 0.88 - 2s 12ms/step - loss: 0.2965 - accuracy: 0.88 - 2s 12ms/step - loss: 0.2968 - accuracy: 0.88 - 2s 12ms/step - loss: 0.2967 - accuracy: 0.88 - 2s 12ms/step - loss: 0.2969 - accuracy: 0.88 - 2s 12ms/step - loss: 0.2962 - accuracy: 0.88 - 2s 12ms/step - loss: 0.2958 - accuracy: 0.88 - 2s 12ms/step - loss: 0.2954 - accuracy: 0.88 - 2s 12ms/step - loss: 0.2951 - accuracy: 0.88 - 2s 12ms/step - loss: 0.2938 - accuracy: 0.88 - 2s 12ms/step - loss: 0.2941 - accuracy: 0.88 - 2s 12ms/step - loss: 0.2942 - accuracy: 0.88 - 2s 12ms/step - loss: 0.2955 - accuracy: 0.88 - 2s 12ms/step - loss: 0.2956 - accuracy: 0.88 - 2s 12ms/step - loss: 0.2952 - accuracy: 0.88 - 2s 12ms/step - loss: 0.2946 - accuracy: 0.88 - 2s 12ms/step - loss: 0.2938 - accuracy: 0.89 - 2s 12ms/step - loss: 0.2956 - accuracy: 0.88 - 2s 12ms/step - loss: 0.2964 - accuracy: 0.88 - 2s 12ms/step - loss: 0.2963 - accuracy: 0.88 - 2s 12ms/step - loss: 0.2956 - accuracy: 0.88 - 2s 12ms/step - loss: 0.2958 - accuracy: 0.88 - 2s 12ms/step - loss: 0.2956 - accuracy: 0.88 - 2s 12ms/step - loss: 0.2944 - accuracy: 0.89 - 2s 12ms/step - loss: 0.2938 - accuracy: 0.89 - 2s 12ms/step - loss: 0.2936 - accuracy: 0.89 - 2s 12ms/step - loss: 0.2934 - accuracy: 0.89 - 2s 12ms/step - loss: 0.2931 - accuracy: 0.8906\b\b\b\b\b\b\b\b\b\b\b\b\b\b\b\b\b\b\b\b\b\b\b\b\b\b\b\b\b\b\b\b\b\b\b\b\b\b\b\b\b\b\b\b\b\b\b\b\b\b\b\b\b\b\b\b\b\b\b\b\b\b\b\b    348/Unknown - 2s 12ms/step - loss: 0.2942 - accuracy: 0.89 - 2s 12ms/step - loss: 0.2932 - accuracy: 0.89 - 2s 12ms/step - loss: 0.2926 - accuracy: 0.89 - 2s 12ms/step - loss: 0.2918 - accuracy: 0.89 - 2s 11ms/step - loss: 0.2919 - accuracy: 0.89 - 2s 11ms/step - loss: 0.2917 - accuracy: 0.89 - 2s 11ms/step - loss: 0.2917 - accuracy: 0.89 - 2s 11ms/step - loss: 0.2923 - accuracy: 0.89 - 2s 11ms/step - loss: 0.2924 - accuracy: 0.89 - 2s 11ms/step - loss: 0.2917 - accuracy: 0.89 - 2s 11ms/step - loss: 0.2921 - accuracy: 0.89 - 2s 11ms/step - loss: 0.2920 - accuracy: 0.89 - 2s 11ms/step - loss: 0.2924 - accuracy: 0.89 - 2s 11ms/step - loss: 0.2918 - accuracy: 0.89 - 2s 11ms/step - loss: 0.2919 - accuracy: 0.89 - 2s 11ms/step - loss: 0.2927 - accuracy: 0.89 - 2s 11ms/step - loss: 0.2926 - accuracy: 0.89 - 2s 11ms/step - loss: 0.2931 - accuracy: 0.89 - 2s 11ms/step - loss: 0.2928 - accuracy: 0.89 - 2s 11ms/step - loss: 0.2923 - accuracy: 0.89 - 2s 11ms/step - loss: 0.2915 - accuracy: 0.89 - 2s 11ms/step - loss: 0.2910 - accuracy: 0.89 - 2s 11ms/step - loss: 0.2922 - accuracy: 0.89 - 2s 11ms/step - loss: 0.2927 - accuracy: 0.89 - 2s 11ms/step - loss: 0.2928 - accuracy: 0.89 - 2s 11ms/step - loss: 0.2924 - accuracy: 0.89 - 2s 11ms/step - loss: 0.2919 - accuracy: 0.89 - 2s 11ms/step - loss: 0.2928 - accuracy: 0.89 - 2s 11ms/step - loss: 0.2931 - accuracy: 0.89 - 2s 11ms/step - loss: 0.2925 - accuracy: 0.89 - 2s 11ms/step - loss: 0.2925 - accuracy: 0.89 - 2s 11ms/step - loss: 0.2926 - accuracy: 0.89 - 2s 11ms/step - loss: 0.2927 - accuracy: 0.89 - 2s 11ms/step - loss: 0.2936 - accuracy: 0.89 - 2s 11ms/step - loss: 0.2934 - accuracy: 0.89 - 2s 11ms/step - loss: 0.2929 - accuracy: 0.89 - 2s 11ms/step - loss: 0.2933 - accuracy: 0.89 - 2s 11ms/step - loss: 0.2929 - accuracy: 0.89 - 2s 11ms/step - loss: 0.2928 - accuracy: 0.89 - 2s 11ms/step - loss: 0.2923 - accuracy: 0.89 - 2s 11ms/step - loss: 0.2922 - accuracy: 0.89 - 2s 11ms/step - loss: 0.2924 - accuracy: 0.89 - 2s 11ms/step - loss: 0.2928 - accuracy: 0.89 - 2s 11ms/step - loss: 0.2927 - accuracy: 0.89 - 2s 11ms/step - loss: 0.2924 - accuracy: 0.89 - 2s 11ms/step - loss: 0.2920 - accuracy: 0.89 - 2s 11ms/step - loss: 0.2919 - accuracy: 0.89 - 2s 11ms/step - loss: 0.2925 - accuracy: 0.89 - 2s 11ms/step - loss: 0.2921 - accuracy: 0.89 - 2s 11ms/step - loss: 0.2920 - accuracy: 0.89 - 2s 11ms/step - loss: 0.2920 - accuracy: 0.89 - 2s 11ms/step - loss: 0.2924 - accuracy: 0.89 - 2s 11ms/step - loss: 0.2918 - accuracy: 0.89 - 3s 11ms/step - loss: 0.2911 - accuracy: 0.89 - 3s 11ms/step - loss: 0.2914 - accuracy: 0.89 - 3s 11ms/step - loss: 0.2915 - accuracy: 0.89 - 3s 11ms/step - loss: 0.2916 - accuracy: 0.89 - 3s 11ms/step - loss: 0.2922 - accuracy: 0.89 - 3s 11ms/step - loss: 0.2921 - accuracy: 0.89 - 3s 11ms/step - loss: 0.2924 - accuracy: 0.89 - 3s 11ms/step - loss: 0.2930 - accuracy: 0.89 - 3s 11ms/step - loss: 0.2925 - accuracy: 0.89 - 3s 11ms/step - loss: 0.2925 - accuracy: 0.89 - 3s 11ms/step - loss: 0.2929 - accuracy: 0.89 - 3s 11ms/step - loss: 0.2935 - accuracy: 0.89 - 3s 11ms/step - loss: 0.2935 - accuracy: 0.89 - 3s 11ms/step - loss: 0.2934 - accuracy: 0.89 - 3s 11ms/step - loss: 0.2946 - accuracy: 0.89 - 3s 11ms/step - loss: 0.2944 - accuracy: 0.89 - 3s 11ms/step - loss: 0.2942 - accuracy: 0.89 - 3s 11ms/step - loss: 0.2947 - accuracy: 0.89 - 3s 11ms/step - loss: 0.2944 - accuracy: 0.89 - 3s 11ms/step - loss: 0.2950 - accuracy: 0.89 - 3s 11ms/step - loss: 0.2949 - accuracy: 0.89 - 3s 11ms/step - loss: 0.2945 - accuracy: 0.89 - 3s 11ms/step - loss: 0.2944 - accuracy: 0.89 - 3s 11ms/step - loss: 0.2945 - accuracy: 0.89 - 3s 11ms/step - loss: 0.2952 - accuracy: 0.89 - 3s 11ms/step - loss: 0.2956 - accuracy: 0.89 - 3s 11ms/step - loss: 0.2958 - accuracy: 0.89 - 3s 11ms/step - loss: 0.2958 - accuracy: 0.89 - 3s 11ms/step - loss: 0.2960 - accuracy: 0.89 - 3s 11ms/step - loss: 0.2961 - accuracy: 0.89 - 3s 11ms/step - loss: 0.2960 - accuracy: 0.89 - 3s 11ms/step - loss: 0.2953 - accuracy: 0.89 - 3s 11ms/step - loss: 0.2954 - accuracy: 0.89 - 3s 11ms/step - loss: 0.2956 - accuracy: 0.89 - 3s 11ms/step - loss: 0.2951 - accuracy: 0.89 - 3s 11ms/step - loss: 0.2950 - accuracy: 0.89 - 3s 11ms/step - loss: 0.2944 - accuracy: 0.89 - 3s 11ms/step - loss: 0.2942 - accuracy: 0.89 - 3s 11ms/step - loss: 0.2939 - accuracy: 0.89 - 3s 11ms/step - loss: 0.2942 - accuracy: 0.89 - 3s 11ms/step - loss: 0.2944 - accuracy: 0.89 - 3s 11ms/step - loss: 0.2942 - accuracy: 0.89 - 3s 11ms/step - loss: 0.2937 - accuracy: 0.89 - 3s 11ms/step - loss: 0.2939 - accuracy: 0.89 - 3s 11ms/step - loss: 0.2940 - accuracy: 0.89 - 3s 11ms/step - loss: 0.2939 - accuracy: 0.89 - 3s 11ms/step - loss: 0.2935 - accuracy: 0.89 - 3s 11ms/step - loss: 0.2937 - accuracy: 0.89 - 3s 11ms/step - loss: 0.2931 - accuracy: 0.89 - 3s 11ms/step - loss: 0.2930 - accuracy: 0.89 - 3s 11ms/step - loss: 0.2936 - accuracy: 0.89 - 3s 11ms/step - loss: 0.2938 - accuracy: 0.89 - 3s 11ms/step - loss: 0.2938 - accuracy: 0.89 - 3s 11ms/step - loss: 0.2936 - accuracy: 0.89 - 3s 11ms/step - loss: 0.2936 - accuracy: 0.89 - 3s 11ms/step - loss: 0.2931 - accuracy: 0.89 - 3s 11ms/step - loss: 0.2931 - accuracy: 0.89 - 3s 11ms/step - loss: 0.2933 - accuracy: 0.89 - 3s 11ms/step - loss: 0.2933 - accuracy: 0.89 - 3s 11ms/step - loss: 0.2937 - accuracy: 0.89 - 3s 11ms/step - loss: 0.2938 - accuracy: 0.89 - 3s 11ms/step - loss: 0.2938 - accuracy: 0.89 - 3s 11ms/step - loss: 0.2934 - accuracy: 0.89 - 3s 11ms/step - loss: 0.2931 - accuracy: 0.89 - 3s 11ms/step - loss: 0.2929 - accuracy: 0.89 - 3s 11ms/step - loss: 0.2928 - accuracy: 0.89 - 3s 11ms/step - loss: 0.2927 - accuracy: 0.89 - 3s 11ms/step - loss: 0.2930 - accuracy: 0.89 - 3s 10ms/step - loss: 0.2930 - accuracy: 0.89 - 3s 10ms/step - loss: 0.2931 - accuracy: 0.89 - 3s 10ms/step - loss: 0.2928 - accuracy: 0.89 - 3s 10ms/step - loss: 0.2933 - accuracy: 0.89 - 3s 10ms/step - loss: 0.2929 - accuracy: 0.89 - 3s 10ms/step - loss: 0.2927 - accuracy: 0.89 - 3s 10ms/step - loss: 0.2929 - accuracy: 0.89 - 3s 10ms/step - loss: 0.2927 - accuracy: 0.89 - 3s 10ms/step - loss: 0.2924 - accuracy: 0.89 - 3s 10ms/step - loss: 0.2919 - accuracy: 0.89 - 3s 10ms/step - loss: 0.2916 - accuracy: 0.89 - 3s 10ms/step - loss: 0.2918 - accuracy: 0.89 - 3s 10ms/step - loss: 0.2921 - accuracy: 0.89 - 3s 10ms/step - loss: 0.2920 - accuracy: 0.89 - 3s 10ms/step - loss: 0.2920 - accuracy: 0.89 - 3s 10ms/step - loss: 0.2924 - accuracy: 0.89 - 3s 10ms/step - loss: 0.2936 - accuracy: 0.89 - 3s 10ms/step - loss: 0.2935 - accuracy: 0.89 - 3s 10ms/step - loss: 0.2937 - accuracy: 0.89 - 3s 10ms/step - loss: 0.2935 - accuracy: 0.89 - 3s 10ms/step - loss: 0.2936 - accuracy: 0.89 - 3s 10ms/step - loss: 0.2938 - accuracy: 0.89 - 3s 10ms/step - loss: 0.2938 - accuracy: 0.89 - 3s 10ms/step - loss: 0.2937 - accuracy: 0.89 - 3s 10ms/step - loss: 0.2939 - accuracy: 0.89 - 3s 10ms/step - loss: 0.2942 - accuracy: 0.89 - 3s 10ms/step - loss: 0.2938 - accuracy: 0.89 - 3s 10ms/step - loss: 0.2943 - accuracy: 0.89 - 3s 10ms/step - loss: 0.2941 - accuracy: 0.89 - 3s 10ms/step - loss: 0.2940 - accuracy: 0.89 - 3s 10ms/step - loss: 0.2939 - accuracy: 0.89 - 3s 10ms/step - loss: 0.2938 - accuracy: 0.89 - 3s 10ms/step - loss: 0.2939 - accuracy: 0.89 - 3s 10ms/step - loss: 0.2941 - accuracy: 0.89 - 3s 10ms/step - loss: 0.2937 - accuracy: 0.89 - 3s 10ms/step - loss: 0.2938 - accuracy: 0.89 - 3s 10ms/step - loss: 0.2939 - accuracy: 0.89 - 3s 10ms/step - loss: 0.2944 - accuracy: 0.89 - 3s 10ms/step - loss: 0.2940 - accuracy: 0.89 - 3s 10ms/step - loss: 0.2938 - accuracy: 0.89 - 4s 10ms/step - loss: 0.2935 - accuracy: 0.89 - 4s 10ms/step - loss: 0.2932 - accuracy: 0.89 - 4s 10ms/step - loss: 0.2933 - accuracy: 0.89 - 4s 10ms/step - loss: 0.2931 - accuracy: 0.89 - 4s 10ms/step - loss: 0.2930 - accuracy: 0.89 - 4s 10ms/step - loss: 0.2931 - accuracy: 0.89 - 4s 10ms/step - loss: 0.2927 - accuracy: 0.89 - 4s 10ms/step - loss: 0.2923 - accuracy: 0.89 - 4s 10ms/step - loss: 0.2921 - accuracy: 0.89 - 4s 10ms/step - loss: 0.2922 - accuracy: 0.89 - 4s 10ms/step - loss: 0.2920 - accuracy: 0.89 - 4s 10ms/step - loss: 0.2919 - accuracy: 0.89 - 4s 10ms/step - loss: 0.2919 - accuracy: 0.8925    522/Unknown - 4s 10ms/step - loss: 0.2917 - accuracy: 0.89 - 4s 10ms/step - loss: 0.2919 - accuracy: 0.89 - 4s 10ms/step - loss: 0.2919 - accuracy: 0.89 - 4s 10ms/step - loss: 0.2918 - accuracy: 0.89 - 4s 10ms/step - loss: 0.2920 - accuracy: 0.89 - 4s 10ms/step - loss: 0.2919 - accuracy: 0.89 - 4s 10ms/step - loss: 0.2919 - accuracy: 0.89 - 4s 10ms/step - loss: 0.2916 - accuracy: 0.89 - 4s 10ms/step - loss: 0.2917 - accuracy: 0.89 - 4s 10ms/step - loss: 0.2922 - accuracy: 0.89 - 4s 10ms/step - loss: 0.2927 - accuracy: 0.89 - 4s 10ms/step - loss: 0.2923 - accuracy: 0.89 - 4s 10ms/step - loss: 0.2923 - accuracy: 0.89 - 4s 10ms/step - loss: 0.2929 - accuracy: 0.89 - 4s 10ms/step - loss: 0.2926 - accuracy: 0.89 - 4s 10ms/step - loss: 0.2926 - accuracy: 0.89 - 4s 10ms/step - loss: 0.2927 - accuracy: 0.89 - 4s 10ms/step - loss: 0.2927 - accuracy: 0.89 - 4s 10ms/step - loss: 0.2926 - accuracy: 0.89 - 4s 10ms/step - loss: 0.2923 - accuracy: 0.89 - 4s 10ms/step - loss: 0.2921 - accuracy: 0.89 - 4s 10ms/step - loss: 0.2921 - accuracy: 0.89 - 4s 10ms/step - loss: 0.2924 - accuracy: 0.89 - 4s 10ms/step - loss: 0.2921 - accuracy: 0.89 - 4s 10ms/step - loss: 0.2921 - accuracy: 0.89 - 4s 10ms/step - loss: 0.2918 - accuracy: 0.89 - 4s 10ms/step - loss: 0.2918 - accuracy: 0.89 - 4s 10ms/step - loss: 0.2918 - accuracy: 0.89 - 4s 10ms/step - loss: 0.2916 - accuracy: 0.89 - 4s 10ms/step - loss: 0.2915 - accuracy: 0.89 - 4s 10ms/step - loss: 0.2917 - accuracy: 0.89 - 4s 10ms/step - loss: 0.2919 - accuracy: 0.89 - 4s 10ms/step - loss: 0.2917 - accuracy: 0.89 - 4s 10ms/step - loss: 0.2915 - accuracy: 0.89 - 4s 10ms/step - loss: 0.2912 - accuracy: 0.89 - 4s 10ms/step - loss: 0.2912 - accuracy: 0.89 - 4s 10ms/step - loss: 0.2910 - accuracy: 0.89 - 4s 10ms/step - loss: 0.2913 - accuracy: 0.89 - 4s 10ms/step - loss: 0.2910 - accuracy: 0.89 - 4s 10ms/step - loss: 0.2907 - accuracy: 0.89 - 4s 10ms/step - loss: 0.2906 - accuracy: 0.89 - 4s 10ms/step - loss: 0.2908 - accuracy: 0.89 - 4s 10ms/step - loss: 0.2905 - accuracy: 0.89 - 4s 10ms/step - loss: 0.2907 - accuracy: 0.89 - 4s 10ms/step - loss: 0.2913 - accuracy: 0.89 - 4s 10ms/step - loss: 0.2912 - accuracy: 0.89 - 4s 10ms/step - loss: 0.2915 - accuracy: 0.89 - 4s 10ms/step - loss: 0.2915 - accuracy: 0.89 - 4s 10ms/step - loss: 0.2915 - accuracy: 0.89 - 4s 10ms/step - loss: 0.2913 - accuracy: 0.89 - 4s 10ms/step - loss: 0.2914 - accuracy: 0.89 - 4s 10ms/step - loss: 0.2912 - accuracy: 0.89 - 4s 10ms/step - loss: 0.2915 - accuracy: 0.89 - 4s 10ms/step - loss: 0.2917 - accuracy: 0.89 - 4s 10ms/step - loss: 0.2917 - accuracy: 0.89 - 4s 10ms/step - loss: 0.2917 - accuracy: 0.89 - 4s 10ms/step - loss: 0.2914 - accuracy: 0.89 - 4s 10ms/step - loss: 0.2910 - accuracy: 0.89 - 4s 10ms/step - loss: 0.2906 - accuracy: 0.89 - 4s 10ms/step - loss: 0.2907 - accuracy: 0.89 - 4s 10ms/step - loss: 0.2905 - accuracy: 0.89 - 4s 10ms/step - loss: 0.2904 - accuracy: 0.89 - 4s 10ms/step - loss: 0.2902 - accuracy: 0.89 - 4s 10ms/step - loss: 0.2903 - accuracy: 0.89 - 4s 10ms/step - loss: 0.2901 - accuracy: 0.89 - 4s 10ms/step - loss: 0.2905 - accuracy: 0.89 - 4s 10ms/step - loss: 0.2905 - accuracy: 0.89 - 4s 10ms/step - loss: 0.2903 - accuracy: 0.89 - 4s 10ms/step - loss: 0.2901 - accuracy: 0.89 - 4s 10ms/step - loss: 0.2902 - accuracy: 0.89 - 4s 10ms/step - loss: 0.2902 - accuracy: 0.89 - 4s 10ms/step - loss: 0.2907 - accuracy: 0.89 - 4s 10ms/step - loss: 0.2911 - accuracy: 0.89 - 4s 10ms/step - loss: 0.2913 - accuracy: 0.89 - 4s 10ms/step - loss: 0.2910 - accuracy: 0.89 - 4s 10ms/step - loss: 0.2912 - accuracy: 0.89 - 4s 10ms/step - loss: 0.2912 - accuracy: 0.89 - 4s 10ms/step - loss: 0.2912 - accuracy: 0.89 - 4s 10ms/step - loss: 0.2916 - accuracy: 0.89 - 4s 10ms/step - loss: 0.2914 - accuracy: 0.89 - 4s 10ms/step - loss: 0.2917 - accuracy: 0.89 - 4s 10ms/step - loss: 0.2915 - accuracy: 0.89 - 4s 10ms/step - loss: 0.2914 - accuracy: 0.89 - 4s 10ms/step - loss: 0.2916 - accuracy: 0.89 - 4s 10ms/step - loss: 0.2918 - accuracy: 0.89 - 4s 10ms/step - loss: 0.2917 - accuracy: 0.89 - 4s 10ms/step - loss: 0.2919 - accuracy: 0.89 - 4s 10ms/step - loss: 0.2917 - accuracy: 0.89 - 4s 10ms/step - loss: 0.2918 - accuracy: 0.89 - 4s 10ms/step - loss: 0.2916 - accuracy: 0.89 - 4s 10ms/step - loss: 0.2916 - accuracy: 0.89 - 4s 10ms/step - loss: 0.2916 - accuracy: 0.89 - 4s 10ms/step - loss: 0.2917 - accuracy: 0.89 - 4s 10ms/step - loss: 0.2918 - accuracy: 0.89 - 4s 10ms/step - loss: 0.2916 - accuracy: 0.89 - 4s 10ms/step - loss: 0.2916 - accuracy: 0.89 - 4s 10ms/step - loss: 0.2914 - accuracy: 0.89 - 5s 10ms/step - loss: 0.2912 - accuracy: 0.89 - 5s 10ms/step - loss: 0.2914 - accuracy: 0.89 - 5s 10ms/step - loss: 0.2915 - accuracy: 0.89 - 5s 10ms/step - loss: 0.2915 - accuracy: 0.89 - 5s 10ms/step - loss: 0.2916 - accuracy: 0.89 - 5s 10ms/step - loss: 0.2916 - accuracy: 0.89 - 5s 10ms/step - loss: 0.2918 - accuracy: 0.89 - 5s 10ms/step - loss: 0.2916 - accuracy: 0.89 - 5s 10ms/step - loss: 0.2918 - accuracy: 0.89 - 5s 10ms/step - loss: 0.2926 - accuracy: 0.89 - 5s 10ms/step - loss: 0.2924 - accuracy: 0.89 - 5s 10ms/step - loss: 0.2930 - accuracy: 0.89 - 5s 10ms/step - loss: 0.2927 - accuracy: 0.89 - 5s 10ms/step - loss: 0.2925 - accuracy: 0.89 - 5s 10ms/step - loss: 0.2926 - accuracy: 0.89 - 5s 10ms/step - loss: 0.2926 - accuracy: 0.89 - 5s 10ms/step - loss: 0.2927 - accuracy: 0.89 - 5s 10ms/step - loss: 0.2927 - accuracy: 0.89 - 5s 10ms/step - loss: 0.2923 - accuracy: 0.89 - 5s 10ms/step - loss: 0.2924 - accuracy: 0.89 - 5s 10ms/step - loss: 0.2925 - accuracy: 0.89 - 5s 10ms/step - loss: 0.2924 - accuracy: 0.89 - 5s 10ms/step - loss: 0.2925 - accuracy: 0.89 - 5s 10ms/step - loss: 0.2924 - accuracy: 0.89 - 5s 10ms/step - loss: 0.2925 - accuracy: 0.89 - 5s 10ms/step - loss: 0.2925 - accuracy: 0.89 - 5s 10ms/step - loss: 0.2924 - accuracy: 0.89 - 5s 10ms/step - loss: 0.2926 - accuracy: 0.89 - 5s 10ms/step - loss: 0.2927 - accuracy: 0.89 - 5s 10ms/step - loss: 0.2927 - accuracy: 0.89 - 5s 10ms/step - loss: 0.2928 - accuracy: 0.89 - 5s 10ms/step - loss: 0.2928 - accuracy: 0.89 - 5s 10ms/step - loss: 0.2931 - accuracy: 0.89 - 5s 10ms/step - loss: 0.2934 - accuracy: 0.89 - 5s 10ms/step - loss: 0.2934 - accuracy: 0.89 - 5s 10ms/step - loss: 0.2933 - accuracy: 0.89 - 5s 10ms/step - loss: 0.2933 - accuracy: 0.89 - 5s 10ms/step - loss: 0.2935 - accuracy: 0.89 - 5s 10ms/step - loss: 0.2933 - accuracy: 0.89 - 5s 10ms/step - loss: 0.2933 - accuracy: 0.89 - 5s 10ms/step - loss: 0.2935 - accuracy: 0.89 - 5s 10ms/step - loss: 0.2934 - accuracy: 0.89 - 5s 10ms/step - loss: 0.2934 - accuracy: 0.89 - 5s 10ms/step - loss: 0.2935 - accuracy: 0.89 - 5s 10ms/step - loss: 0.2935 - accuracy: 0.89 - 5s 10ms/step - loss: 0.2934 - accuracy: 0.89 - 5s 10ms/step - loss: 0.2931 - accuracy: 0.89 - 5s 10ms/step - loss: 0.2932 - accuracy: 0.89 - 5s 10ms/step - loss: 0.2931 - accuracy: 0.89 - 5s 10ms/step - loss: 0.2930 - accuracy: 0.89 - 5s 10ms/step - loss: 0.2929 - accuracy: 0.89 - 5s 10ms/step - loss: 0.2927 - accuracy: 0.89 - 5s 10ms/step - loss: 0.2925 - accuracy: 0.89 - 5s 10ms/step - loss: 0.2923 - accuracy: 0.89 - 5s 10ms/step - loss: 0.2922 - accuracy: 0.89 - 5s 10ms/step - loss: 0.2921 - accuracy: 0.89 - 5s 10ms/step - loss: 0.2921 - accuracy: 0.89 - 5s 10ms/step - loss: 0.2919 - accuracy: 0.89 - 5s 10ms/step - loss: 0.2916 - accuracy: 0.89 - 5s 10ms/step - loss: 0.2919 - accuracy: 0.89 - 5s 10ms/step - loss: 0.2915 - accuracy: 0.89 - 5s 10ms/step - loss: 0.2915 - accuracy: 0.89 - 5s 10ms/step - loss: 0.2915 - accuracy: 0.89 - 5s 10ms/step - loss: 0.2914 - accuracy: 0.89 - 5s 10ms/step - loss: 0.2913 - accuracy: 0.89 - 5s 10ms/step - loss: 0.2916 - accuracy: 0.89 - 5s 10ms/step - loss: 0.2916 - accuracy: 0.89 - 5s 10ms/step - loss: 0.2916 - accuracy: 0.89 - 5s 10ms/step - loss: 0.2915 - accuracy: 0.89 - 5s 10ms/step - loss: 0.2912 - accuracy: 0.89 - 5s 10ms/step - loss: 0.2909 - accuracy: 0.89 - 5s 10ms/step - loss: 0.2910 - accuracy: 0.89 - 5s 10ms/step - loss: 0.2909 - accuracy: 0.89 - 5s 10ms/step - loss: 0.2910 - accuracy: 0.89 - 5s 10ms/step - loss: 0.2909 - accuracy: 0.89 - 5s 10ms/step - loss: 0.2907 - accuracy: 0.89 - 5s 10ms/step - loss: 0.2906 - accuracy: 0.8924    696/Unknown - 5s 10ms/step - loss: 0.2905 - accuracy: 0.89 - 5s 10ms/step - loss: 0.2908 - accuracy: 0.89 - 5s 10ms/step - loss: 0.2910 - accuracy: 0.89 - 5s 10ms/step - loss: 0.2914 - accuracy: 0.89 - 5s 10ms/step - loss: 0.2914 - accuracy: 0.89 - 5s 10ms/step - loss: 0.2914 - accuracy: 0.89 - 5s 10ms/step - loss: 0.2912 - accuracy: 0.89 - 5s 10ms/step - loss: 0.2913 - accuracy: 0.89 - 5s 10ms/step - loss: 0.2913 - accuracy: 0.89 - 5s 10ms/step - loss: 0.2913 - accuracy: 0.89 - 5s 10ms/step - loss: 0.2916 - accuracy: 0.89 - 5s 10ms/step - loss: 0.2916 - accuracy: 0.89 - 5s 10ms/step - loss: 0.2914 - accuracy: 0.89 - 5s 10ms/step - loss: 0.2912 - accuracy: 0.89 - 5s 10ms/step - loss: 0.2915 - accuracy: 0.89 - 5s 10ms/step - loss: 0.2913 - accuracy: 0.89 - 5s 10ms/step - loss: 0.2915 - accuracy: 0.89 - 5s 10ms/step - loss: 0.2916 - accuracy: 0.89 - 5s 10ms/step - loss: 0.2914 - accuracy: 0.89 - 5s 10ms/step - loss: 0.2914 - accuracy: 0.89 - 5s 10ms/step - loss: 0.2914 - accuracy: 0.89 - 5s 10ms/step - loss: 0.2913 - accuracy: 0.89 - 5s 10ms/step - loss: 0.2912 - accuracy: 0.89 - 5s 10ms/step - loss: 0.2911 - accuracy: 0.89 - 5s 10ms/step - loss: 0.2913 - accuracy: 0.89 - 5s 10ms/step - loss: 0.2913 - accuracy: 0.89 - 5s 10ms/step - loss: 0.2914 - accuracy: 0.89 - 5s 10ms/step - loss: 0.2913 - accuracy: 0.89 - 5s 10ms/step - loss: 0.2913 - accuracy: 0.89 - 5s 10ms/step - loss: 0.2913 - accuracy: 0.89 - 5s 10ms/step - loss: 0.2912 - accuracy: 0.89 - 5s 10ms/step - loss: 0.2910 - accuracy: 0.89 - 6s 10ms/step - loss: 0.2910 - accuracy: 0.89 - 6s 10ms/step - loss: 0.2911 - accuracy: 0.89 - 6s 10ms/step - loss: 0.2913 - accuracy: 0.89 - 6s 10ms/step - loss: 0.2914 - accuracy: 0.89 - 6s 10ms/step - loss: 0.2913 - accuracy: 0.89 - 6s 10ms/step - loss: 0.2911 - accuracy: 0.89 - 6s 10ms/step - loss: 0.2910 - accuracy: 0.89 - 6s 10ms/step - loss: 0.2912 - accuracy: 0.89 - 6s 10ms/step - loss: 0.2912 - accuracy: 0.89 - 6s 10ms/step - loss: 0.2912 - accuracy: 0.89 - 6s 10ms/step - loss: 0.2911 - accuracy: 0.89 - 6s 10ms/step - loss: 0.2909 - accuracy: 0.89 - 6s 10ms/step - loss: 0.2909 - accuracy: 0.89 - 6s 10ms/step - loss: 0.2908 - accuracy: 0.89 - 6s 10ms/step - loss: 0.2907 - accuracy: 0.89 - 6s 10ms/step - loss: 0.2906 - accuracy: 0.89 - 6s 10ms/step - loss: 0.2907 - accuracy: 0.89 - 6s 10ms/step - loss: 0.2906 - accuracy: 0.89 - 6s 10ms/step - loss: 0.2905 - accuracy: 0.89 - 6s 10ms/step - loss: 0.2904 - accuracy: 0.89 - 6s 10ms/step - loss: 0.2903 - accuracy: 0.89 - 6s 10ms/step - loss: 0.2904 - accuracy: 0.89 - 6s 10ms/step - loss: 0.2903 - accuracy: 0.89 - 6s 10ms/step - loss: 0.2903 - accuracy: 0.89 - 6s 10ms/step - loss: 0.2904 - accuracy: 0.89 - 6s 10ms/step - loss: 0.2902 - accuracy: 0.89 - 6s 10ms/step - loss: 0.2903 - accuracy: 0.89 - 6s 10ms/step - loss: 0.2904 - accuracy: 0.89 - 6s 10ms/step - loss: 0.2904 - accuracy: 0.89 - 6s 10ms/step - loss: 0.2904 - accuracy: 0.89 - 6s 10ms/step - loss: 0.2903 - accuracy: 0.89 - 6s 10ms/step - loss: 0.2902 - accuracy: 0.89 - 6s 10ms/step - loss: 0.2902 - accuracy: 0.89 - 6s 10ms/step - loss: 0.2904 - accuracy: 0.89 - 6s 10ms/step - loss: 0.2904 - accuracy: 0.89 - 6s 10ms/step - loss: 0.2903 - accuracy: 0.89 - 6s 10ms/step - loss: 0.2905 - accuracy: 0.89 - 6s 10ms/step - loss: 0.2906 - accuracy: 0.89 - 6s 10ms/step - loss: 0.2902 - accuracy: 0.89 - 6s 10ms/step - loss: 0.2901 - accuracy: 0.89 - 6s 10ms/step - loss: 0.2900 - accuracy: 0.89 - 6s 10ms/step - loss: 0.2899 - accuracy: 0.89 - 6s 10ms/step - loss: 0.2901 - accuracy: 0.89 - 6s 10ms/step - loss: 0.2901 - accuracy: 0.89 - 6s 10ms/step - loss: 0.2900 - accuracy: 0.89 - 6s 10ms/step - loss: 0.2899 - accuracy: 0.89 - 6s 10ms/step - loss: 0.2899 - accuracy: 0.89 - 6s 10ms/step - loss: 0.2901 - accuracy: 0.89 - 6s 10ms/step - loss: 0.2900 - accuracy: 0.89 - 6s 10ms/step - loss: 0.2900 - accuracy: 0.89 - 6s 10ms/step - loss: 0.2901 - accuracy: 0.89 - 6s 10ms/step - loss: 0.2902 - accuracy: 0.89 - 6s 10ms/step - loss: 0.2902 - accuracy: 0.89 - 6s 10ms/step - loss: 0.2901 - accuracy: 0.89 - 6s 10ms/step - loss: 0.2900 - accuracy: 0.89 - 6s 10ms/step - loss: 0.2899 - accuracy: 0.89 - 6s 10ms/step - loss: 0.2898 - accuracy: 0.89 - 6s 10ms/step - loss: 0.2898 - accuracy: 0.89 - 6s 10ms/step - loss: 0.2898 - accuracy: 0.89 - 6s 10ms/step - loss: 0.2899 - accuracy: 0.89 - 6s 10ms/step - loss: 0.2899 - accuracy: 0.89 - 6s 10ms/step - loss: 0.2899 - accuracy: 0.89 - 6s 10ms/step - loss: 0.2899 - accuracy: 0.89 - 6s 10ms/step - loss: 0.2900 - accuracy: 0.89 - 6s 10ms/step - loss: 0.2900 - accuracy: 0.89 - 6s 10ms/step - loss: 0.2899 - accuracy: 0.89 - 6s 10ms/step - loss: 0.2898 - accuracy: 0.89 - 6s 10ms/step - loss: 0.2897 - accuracy: 0.89 - 6s 10ms/step - loss: 0.2898 - accuracy: 0.89 - 6s 10ms/step - loss: 0.2898 - accuracy: 0.89 - 6s 10ms/step - loss: 0.2896 - accuracy: 0.89 - 6s 10ms/step - loss: 0.2896 - accuracy: 0.89 - 6s 10ms/step - loss: 0.2895 - accuracy: 0.89 - 6s 10ms/step - loss: 0.2895 - accuracy: 0.89 - 6s 10ms/step - loss: 0.2894 - accuracy: 0.89 - 6s 10ms/step - loss: 0.2894 - accuracy: 0.89 - 6s 10ms/step - loss: 0.2892 - accuracy: 0.89 - 6s 10ms/step - loss: 0.2892 - accuracy: 0.89 - 6s 10ms/step - loss: 0.2892 - accuracy: 0.89 - 6s 10ms/step - loss: 0.2893 - accuracy: 0.89 - 6s 10ms/step - loss: 0.2896 - accuracy: 0.89 - 6s 10ms/step - loss: 0.2895 - accuracy: 0.89 - 6s 10ms/step - loss: 0.2895 - accuracy: 0.89 - 6s 10ms/step - loss: 0.2897 - accuracy: 0.89 - 6s 10ms/step - loss: 0.2898 - accuracy: 0.89 - 6s 10ms/step - loss: 0.2896 - accuracy: 0.89 - 6s 10ms/step - loss: 0.2896 - accuracy: 0.89 - 6s 10ms/step - loss: 0.2898 - accuracy: 0.89 - 6s 10ms/step - loss: 0.2899 - accuracy: 0.89 - 6s 10ms/step - loss: 0.2899 - accuracy: 0.89 - 6s 10ms/step - loss: 0.2899 - accuracy: 0.89 - 6s 10ms/step - loss: 0.2898 - accuracy: 0.89 - 6s 10ms/step - loss: 0.2900 - accuracy: 0.89 - 6s 10ms/step - loss: 0.2897 - accuracy: 0.89 - 6s 10ms/step - loss: 0.2894 - accuracy: 0.89 - 6s 10ms/step - loss: 0.2893 - accuracy: 0.89 - 6s 10ms/step - loss: 0.2893 - accuracy: 0.89 - 6s 10ms/step - loss: 0.2892 - accuracy: 0.89 - 6s 10ms/step - loss: 0.2891 - accuracy: 0.89 - 6s 10ms/step - loss: 0.2891 - accuracy: 0.89 - 6s 10ms/step - loss: 0.2891 - accuracy: 0.89 - 6s 10ms/step - loss: 0.2893 - accuracy: 0.89 - 6s 10ms/step - loss: 0.2895 - accuracy: 0.89 - 6s 10ms/step - loss: 0.2893 - accuracy: 0.89 - 6s 10ms/step - loss: 0.2892 - accuracy: 0.89 - 6s 10ms/step - loss: 0.2893 - accuracy: 0.89 - 6s 10ms/step - loss: 0.2893 - accuracy: 0.89 - 6s 10ms/step - loss: 0.2892 - accuracy: 0.89 - 6s 10ms/step - loss: 0.2893 - accuracy: 0.89 - 6s 10ms/step - loss: 0.2895 - accuracy: 0.89 - 6s 10ms/step - loss: 0.2893 - accuracy: 0.89 - 7s 10ms/step - loss: 0.2892 - accuracy: 0.89 - 7s 10ms/step - loss: 0.2893 - accuracy: 0.89 - 7s 10ms/step - loss: 0.2891 - accuracy: 0.89 - 7s 10ms/step - loss: 0.2890 - accuracy: 0.89 - 7s 10ms/step - loss: 0.2891 - accuracy: 0.89 - 7s 10ms/step - loss: 0.2893 - accuracy: 0.89 - 7s 10ms/step - loss: 0.2893 - accuracy: 0.89 - 7s 10ms/step - loss: 0.2892 - accuracy: 0.89 - 7s 10ms/step - loss: 0.2893 - accuracy: 0.89 - 7s 10ms/step - loss: 0.2894 - accuracy: 0.89 - 7s 10ms/step - loss: 0.2893 - accuracy: 0.89 - 7s 10ms/step - loss: 0.2890 - accuracy: 0.89 - 7s 10ms/step - loss: 0.2891 - accuracy: 0.89 - 7s 10ms/step - loss: 0.2890 - accuracy: 0.89 - 7s 10ms/step - loss: 0.2890 - accuracy: 0.89 - 7s 10ms/step - loss: 0.2889 - accuracy: 0.89 - 7s 10ms/step - loss: 0.2887 - accuracy: 0.89 - 7s 10ms/step - loss: 0.2886 - accuracy: 0.89 - 7s 10ms/step - loss: 0.2887 - accuracy: 0.89 - 7s 10ms/step - loss: 0.2887 - accuracy: 0.89 - 7s 10ms/step - loss: 0.2887 - accuracy: 0.89 - 7s 10ms/step - loss: 0.2887 - accuracy: 0.89 - 7s 10ms/step - loss: 0.2887 - accuracy: 0.89 - 7s 10ms/step - loss: 0.2885 - accuracy: 0.89 - 7s 10ms/step - loss: 0.2885 - accuracy: 0.89 - 7s 10ms/step - loss: 0.2884 - accuracy: 0.89 - 7s 10ms/step - loss: 0.2884 - accuracy: 0.89 - 7s 10ms/step - loss: 0.2883 - accuracy: 0.89 - 7s 10ms/step - loss: 0.2882 - accuracy: 0.89 - 7s 10ms/step - loss: 0.2881 - accuracy: 0.89 - 7s 10ms/step - loss: 0.2881 - accuracy: 0.8931    870/Unknown - 7s 10ms/step - loss: 0.2881 - accuracy: 0.89 - 7s 10ms/step - loss: 0.2879 - accuracy: 0.89 - 7s 10ms/step - loss: 0.2879 - accuracy: 0.89 - 7s 10ms/step - loss: 0.2879 - accuracy: 0.89 - 7s 10ms/step - loss: 0.2879 - accuracy: 0.89 - 7s 10ms/step - loss: 0.2877 - accuracy: 0.89 - 7s 10ms/step - loss: 0.2878 - accuracy: 0.89 - 7s 10ms/step - loss: 0.2880 - accuracy: 0.89 - 7s 10ms/step - loss: 0.2879 - accuracy: 0.89 - 7s 10ms/step - loss: 0.2878 - accuracy: 0.89 - 7s 10ms/step - loss: 0.2877 - accuracy: 0.89 - 7s 10ms/step - loss: 0.2878 - accuracy: 0.89 - 7s 10ms/step - loss: 0.2879 - accuracy: 0.89 - 7s 10ms/step - loss: 0.2879 - accuracy: 0.89 - 7s 10ms/step - loss: 0.2880 - accuracy: 0.89 - 7s 10ms/step - loss: 0.2880 - accuracy: 0.89 - 7s 10ms/step - loss: 0.2878 - accuracy: 0.89 - 7s 10ms/step - loss: 0.2877 - accuracy: 0.89 - 7s 10ms/step - loss: 0.2877 - accuracy: 0.89 - 7s 10ms/step - loss: 0.2877 - accuracy: 0.89 - 7s 10ms/step - loss: 0.2878 - accuracy: 0.89 - 7s 10ms/step - loss: 0.2878 - accuracy: 0.89 - 7s 10ms/step - loss: 0.2878 - accuracy: 0.89 - 7s 10ms/step - loss: 0.2877 - accuracy: 0.89 - 7s 10ms/step - loss: 0.2877 - accuracy: 0.89 - 7s 10ms/step - loss: 0.2876 - accuracy: 0.89 - 7s 10ms/step - loss: 0.2876 - accuracy: 0.89 - 7s 10ms/step - loss: 0.2877 - accuracy: 0.89 - 7s 10ms/step - loss: 0.2877 - accuracy: 0.89 - 7s 10ms/step - loss: 0.2876 - accuracy: 0.89 - 7s 10ms/step - loss: 0.2880 - accuracy: 0.89 - 7s 10ms/step - loss: 0.2881 - accuracy: 0.89 - 7s 10ms/step - loss: 0.2883 - accuracy: 0.89 - 7s 10ms/step - loss: 0.2883 - accuracy: 0.89 - 7s 10ms/step - loss: 0.2883 - accuracy: 0.89 - 7s 10ms/step - loss: 0.2882 - accuracy: 0.89 - 7s 10ms/step - loss: 0.2884 - accuracy: 0.89 - 7s 10ms/step - loss: 0.2885 - accuracy: 0.89 - 7s 10ms/step - loss: 0.2887 - accuracy: 0.89 - 7s 10ms/step - loss: 0.2887 - accuracy: 0.89 - 7s 10ms/step - loss: 0.2886 - accuracy: 0.89 - 7s 10ms/step - loss: 0.2885 - accuracy: 0.89 - 7s 10ms/step - loss: 0.2885 - accuracy: 0.89 - 7s 10ms/step - loss: 0.2883 - accuracy: 0.89 - 7s 10ms/step - loss: 0.2883 - accuracy: 0.89 - 7s 10ms/step - loss: 0.2883 - accuracy: 0.89 - 7s 10ms/step - loss: 0.2886 - accuracy: 0.89 - 7s 10ms/step - loss: 0.2888 - accuracy: 0.89 - 7s 10ms/step - loss: 0.2887 - accuracy: 0.89 - 7s 10ms/step - loss: 0.2887 - accuracy: 0.89 - 7s 10ms/step - loss: 0.2887 - accuracy: 0.89 - 7s 10ms/step - loss: 0.2892 - accuracy: 0.89 - 7s 10ms/step - loss: 0.2892 - accuracy: 0.89 - 7s 10ms/step - loss: 0.2891 - accuracy: 0.89 - 7s 10ms/step - loss: 0.2891 - accuracy: 0.89 - 7s 10ms/step - loss: 0.2895 - accuracy: 0.89 - 7s 10ms/step - loss: 0.2897 - accuracy: 0.89 - 8s 10ms/step - loss: 0.2898 - accuracy: 0.89 - 8s 10ms/step - loss: 0.2899 - accuracy: 0.89 - 8s 10ms/step - loss: 0.2899 - accuracy: 0.89 - 8s 10ms/step - loss: 0.2899 - accuracy: 0.89 - 8s 10ms/step - loss: 0.2899 - accuracy: 0.89 - 8s 10ms/step - loss: 0.2899 - accuracy: 0.89 - 8s 10ms/step - loss: 0.2901 - accuracy: 0.89 - 8s 10ms/step - loss: 0.2901 - accuracy: 0.89 - 8s 10ms/step - loss: 0.2902 - accuracy: 0.89 - 8s 10ms/step - loss: 0.2903 - accuracy: 0.89 - 8s 10ms/step - loss: 0.2901 - accuracy: 0.89 - 8s 10ms/step - loss: 0.2902 - accuracy: 0.89 - 8s 10ms/step - loss: 0.2901 - accuracy: 0.89 - 8s 10ms/step - loss: 0.2901 - accuracy: 0.89 - 8s 10ms/step - loss: 0.2902 - accuracy: 0.89 - 8s 10ms/step - loss: 0.2900 - accuracy: 0.89 - 8s 10ms/step - loss: 0.2898 - accuracy: 0.89 - 8s 10ms/step - loss: 0.2899 - accuracy: 0.89 - 8s 10ms/step - loss: 0.2901 - accuracy: 0.89 - 8s 10ms/step - loss: 0.2900 - accuracy: 0.89 - 8s 10ms/step - loss: 0.2901 - accuracy: 0.89 - 8s 10ms/step - loss: 0.2900 - accuracy: 0.89 - 8s 10ms/step - loss: 0.2898 - accuracy: 0.89 - 8s 10ms/step - loss: 0.2898 - accuracy: 0.89 - 8s 10ms/step - loss: 0.2897 - accuracy: 0.89 - 8s 10ms/step - loss: 0.2898 - accuracy: 0.89 - 8s 10ms/step - loss: 0.2898 - accuracy: 0.89 - 8s 10ms/step - loss: 0.2897 - accuracy: 0.89 - 8s 10ms/step - loss: 0.2898 - accuracy: 0.89 - 8s 10ms/step - loss: 0.2898 - accuracy: 0.89 - 8s 10ms/step - loss: 0.2899 - accuracy: 0.89 - 8s 10ms/step - loss: 0.2899 - accuracy: 0.89 - 8s 10ms/step - loss: 0.2897 - accuracy: 0.89 - 8s 10ms/step - loss: 0.2899 - accuracy: 0.89 - 8s 10ms/step - loss: 0.2900 - accuracy: 0.89 - 8s 10ms/step - loss: 0.2900 - accuracy: 0.89 - 8s 10ms/step - loss: 0.2903 - accuracy: 0.89 - 8s 10ms/step - loss: 0.2903 - accuracy: 0.89 - 8s 10ms/step - loss: 0.2903 - accuracy: 0.89 - 8s 10ms/step - loss: 0.2903 - accuracy: 0.89 - 8s 10ms/step - loss: 0.2902 - accuracy: 0.89 - 8s 10ms/step - loss: 0.2902 - accuracy: 0.89 - 8s 10ms/step - loss: 0.2901 - accuracy: 0.89 - 8s 10ms/step - loss: 0.2901 - accuracy: 0.89 - 8s 10ms/step - loss: 0.2899 - accuracy: 0.89 - 8s 10ms/step - loss: 0.2899 - accuracy: 0.89 - 8s 10ms/step - loss: 0.2899 - accuracy: 0.89 - 8s 10ms/step - loss: 0.2900 - accuracy: 0.89 - 8s 10ms/step - loss: 0.2899 - accuracy: 0.89 - 8s 10ms/step - loss: 0.2897 - accuracy: 0.89 - 8s 10ms/step - loss: 0.2898 - accuracy: 0.89 - 8s 10ms/step - loss: 0.2898 - accuracy: 0.89 - 8s 10ms/step - loss: 0.2899 - accuracy: 0.89 - 8s 10ms/step - loss: 0.2899 - accuracy: 0.89 - 8s 10ms/step - loss: 0.2900 - accuracy: 0.89 - 8s 10ms/step - loss: 0.2900 - accuracy: 0.89 - 8s 10ms/step - loss: 0.2900 - accuracy: 0.89 - 8s 10ms/step - loss: 0.2901 - accuracy: 0.89 - 8s 10ms/step - loss: 0.2900 - accuracy: 0.89 - 8s 10ms/step - loss: 0.2900 - accuracy: 0.89 - 8s 10ms/step - loss: 0.2900 - accuracy: 0.89 - 8s 10ms/step - loss: 0.2901 - accuracy: 0.89 - 8s 10ms/step - loss: 0.2901 - accuracy: 0.89 - 8s 10ms/step - loss: 0.2900 - accuracy: 0.89 - 8s 10ms/step - loss: 0.2900 - accuracy: 0.89 - 8s 10ms/step - loss: 0.2900 - accuracy: 0.89 - 8s 10ms/step - loss: 0.2899 - accuracy: 0.89 - 8s 10ms/step - loss: 0.2898 - accuracy: 0.89 - 8s 10ms/step - loss: 0.2899 - accuracy: 0.89 - 8s 10ms/step - loss: 0.2899 - accuracy: 0.89 - 8s 10ms/step - loss: 0.2898 - accuracy: 0.89 - 8s 10ms/step - loss: 0.2897 - accuracy: 0.89 - 8s 10ms/step - loss: 0.2896 - accuracy: 0.89 - 8s 10ms/step - loss: 0.2895 - accuracy: 0.89 - 8s 10ms/step - loss: 0.2895 - accuracy: 0.89 - 8s 10ms/step - loss: 0.2896 - accuracy: 0.89 - 8s 10ms/step - loss: 0.2896 - accuracy: 0.89 - 8s 10ms/step - loss: 0.2896 - accuracy: 0.89 - 8s 10ms/step - loss: 0.2897 - accuracy: 0.89 - 8s 10ms/step - loss: 0.2897 - accuracy: 0.89 - 8s 10ms/step - loss: 0.2899 - accuracy: 0.89 - 8s 10ms/step - loss: 0.2898 - accuracy: 0.89 - 8s 10ms/step - loss: 0.2898 - accuracy: 0.89 - 8s 10ms/step - loss: 0.2896 - accuracy: 0.89 - 8s 10ms/step - loss: 0.2897 - accuracy: 0.89 - 8s 10ms/step - loss: 0.2895 - accuracy: 0.89 - 8s 10ms/step - loss: 0.2895 - accuracy: 0.89 - 8s 10ms/step - loss: 0.2897 - accuracy: 0.89 - 8s 10ms/step - loss: 0.2897 - accuracy: 0.89 - 8s 10ms/step - loss: 0.2896 - accuracy: 0.89 - 8s 10ms/step - loss: 0.2897 - accuracy: 0.89 - 8s 10ms/step - loss: 0.2897 - accuracy: 0.89 - 8s 10ms/step - loss: 0.2898 - accuracy: 0.89 - 8s 10ms/step - loss: 0.2896 - accuracy: 0.89 - 8s 10ms/step - loss: 0.2897 - accuracy: 0.89 - 8s 10ms/step - loss: 0.2896 - accuracy: 0.89 - 8s 10ms/step - loss: 0.2898 - accuracy: 0.89 - 8s 10ms/step - loss: 0.2898 - accuracy: 0.89 - 8s 10ms/step - loss: 0.2898 - accuracy: 0.89 - 8s 10ms/step - loss: 0.2898 - accuracy: 0.89 - 8s 10ms/step - loss: 0.2899 - accuracy: 0.89 - 8s 10ms/step - loss: 0.2900 - accuracy: 0.89 - 8s 10ms/step - loss: 0.2899 - accuracy: 0.89 - 8s 10ms/step - loss: 0.2899 - accuracy: 0.89 - 8s 10ms/step - loss: 0.2899 - accuracy: 0.89 - 8s 10ms/step - loss: 0.2898 - accuracy: 0.89 - 8s 10ms/step - loss: 0.2897 - accuracy: 0.89 - 8s 10ms/step - loss: 0.2897 - accuracy: 0.89 - 8s 10ms/step - loss: 0.2897 - accuracy: 0.89 - 8s 10ms/step - loss: 0.2897 - accuracy: 0.89 - 8s 10ms/step - loss: 0.2897 - accuracy: 0.89 - 8s 10ms/step - loss: 0.2897 - accuracy: 0.89 - 8s 10ms/step - loss: 0.2898 - accuracy: 0.89 - 8s 10ms/step - loss: 0.2897 - accuracy: 0.89 - 8s 10ms/step - loss: 0.2896 - accuracy: 0.89 - 8s 10ms/step - loss: 0.2896 - accuracy: 0.89 - 8s 10ms/step - loss: 0.2897 - accuracy: 0.8926938/938 [==============================].2895 - accuracy: 0.89 - 8s 10ms/step - loss: 0.2895 - accuracy: 0.89 - 8s 10ms/step - loss: 0.2895 - accuracy: 0.89 - 8s 10ms/step - loss: 0.2896 - accuracy: 0.89 - 8s 10ms/step - loss: 0.2896 - accuracy: 0.89 - 8s 10ms/step - loss: 0.2896 - accuracy: 0.89 - 8s 10ms/step - loss: 0.2895 - accuracy: 0.89 - 8s 10ms/step - loss: 0.2894 - accuracy: 0.89 - 9s 10ms/step - loss: 0.2895 - accuracy: 0.89 - 9s 10ms/step - loss: 0.2895 - accuracy: 0.89 - 9s 10ms/step - loss: 0.2895 - accuracy: 0.89 - 9s 10ms/step - loss: 0.2895 - accuracy: 0.89 - 9s 10ms/step - loss: 0.2894 - accuracy: 0.89 - 9s 10ms/step - loss: 0.2895 - accuracy: 0.89 - 9s 10ms/step - loss: 0.2894 - accuracy: 0.89 - 9s 10ms/step - loss: 0.2894 - accuracy: 0.89 - 9s 10ms/step - loss: 0.2894 - accuracy: 0.89 - 9s 10ms/step - loss: 0.2895 - accuracy: 0.89 - 9s 10ms/step - loss: 0.2895 - accuracy: 0.89 - 9s 10ms/step - loss: 0.2896 - accuracy: 0.89 - 9s 10ms/step - loss: 0.2896 - accuracy: 0.89 - 9s 10ms/step - loss: 0.2895 - accuracy: 0.89 - 9s 10ms/step - loss: 0.2894 - accuracy: 0.89 - 9s 10ms/step - loss: 0.2895 - accuracy: 0.89 - 9s 10ms/step - loss: 0.2895 - accuracy: 0.89 - 9s 10ms/step - loss: 0.2895 - accuracy: 0.89 - 9s 10ms/step - loss: 0.2896 - accuracy: 0.89 - 9s 10ms/step - loss: 0.2898 - accuracy: 0.89 - 9s 10ms/step - loss: 0.2898 - accuracy: 0.89 - 9s 10ms/step - loss: 0.2897 - accuracy: 0.89 - 9s 10ms/step - loss: 0.2898 - accuracy: 0.89 - 9s 10ms/step - loss: 0.2898 - accuracy: 0.89 - 9s 10ms/step - loss: 0.2897 - accuracy: 0.89 - 9s 10ms/step - loss: 0.2899 - accuracy: 0.89 - 9s 10ms/step - loss: 0.2901 - accuracy: 0.89 - 9s 10ms/step - loss: 0.2901 - accuracy: 0.89 - 9s 10ms/step - loss: 0.2901 - accuracy: 0.89 - 9s 10ms/step - loss: 0.2901 - accuracy: 0.89 - 9s 10ms/step - loss: 0.2902 - accuracy: 0.89 - 9s 10ms/step - loss: 0.2901 - accuracy: 0.89 - 9s 10ms/step - loss: 0.2899 - accuracy: 0.89 - 9s 10ms/step - loss: 0.2900 - accuracy: 0.89 - 9s 10ms/step - loss: 0.2900 - accuracy: 0.89 - 9s 10ms/step - loss: 0.2899 - accuracy: 0.89 - 9s 10ms/step - loss: 0.2898 - accuracy: 0.89 - 9s 10ms/step - loss: 0.2898 - accuracy: 0.89 - 9s 10ms/step - loss: 0.2898 - accuracy: 0.89 - 9s 10ms/step - loss: 0.2898 - accuracy: 0.89 - 9s 10ms/step - loss: 0.2900 - accuracy: 0.89 - 9s 10ms/step - loss: 0.2899 - accuracy: 0.89 - 9s 10ms/step - loss: 0.2900 - accuracy: 0.89 - 9s 10ms/step - loss: 0.2902 - accuracy: 0.89 - 9s 10ms/step - loss: 0.2904 - accuracy: 0.89 - 9s 10ms/step - loss: 0.2903 - accuracy: 0.89 - 9s 10ms/step - loss: 0.2902 - accuracy: 0.89 - 9s 10ms/step - loss: 0.2902 - accuracy: 0.89 - 9s 10ms/step - loss: 0.2901 - accuracy: 0.89 - 9s 10ms/step - loss: 0.2900 - accuracy: 0.89 - 9s 10ms/step - loss: 0.2900 - accuracy: 0.89 - 9s 10ms/step - loss: 0.2898 - accuracy: 0.89 - 9s 10ms/step - loss: 0.2897 - accuracy: 0.89 - 9s 10ms/step - loss: 0.2897 - accuracy: 0.89 - 9s 10ms/step - loss: 0.2896 - accuracy: 0.89 - 9s 9ms/step - loss: 0.2897 - accuracy: 0.8926 - 9s 9ms/step - loss: 0.2899 - accuracy: 0.892 - 9s 9ms/step - loss: 0.2899 - accuracy: 0.892 - 9s 9ms/step - loss: 0.2903 - accuracy: 0.892 - 9s 9ms/step - loss: 0.2903 - accuracy: 0.892 - 9s 9ms/step - loss: 0.2903 - accuracy: 0.8925\n",
      "Epoch 2/5\n",
      "938/938 [==============================] - ETA: 1:40 - loss: 0.1676 - accuracy: 0.92 - ETA: 6s - loss: 0.2855 - accuracy: 0.8891 - ETA: 4s - loss: 0.2739 - accuracy: 0.89 - ETA: 3s - loss: 0.2790 - accuracy: 0.89 - ETA: 3s - loss: 0.2768 - accuracy: 0.89 - ETA: 3s - loss: 0.2749 - accuracy: 0.89 - ETA: 2s - loss: 0.2794 - accuracy: 0.89 - ETA: 2s - loss: 0.2751 - accuracy: 0.89 - ETA: 2s - loss: 0.2755 - accuracy: 0.89 - ETA: 2s - loss: 0.2750 - accuracy: 0.89 - ETA: 2s - loss: 0.2767 - accuracy: 0.89 - ETA: 2s - loss: 0.2751 - accuracy: 0.89 - ETA: 2s - loss: 0.2787 - accuracy: 0.89 - ETA: 2s - loss: 0.2802 - accuracy: 0.89 - ETA: 1s - loss: 0.2793 - accuracy: 0.89 - ETA: 1s - loss: 0.2773 - accuracy: 0.89 - ETA: 1s - loss: 0.2782 - accuracy: 0.89 - ETA: 1s - loss: 0.2768 - accuracy: 0.89 - ETA: 1s - loss: 0.2804 - accuracy: 0.89 - ETA: 1s - loss: 0.2800 - accuracy: 0.89 - ETA: 1s - loss: 0.2806 - accuracy: 0.89 - ETA: 1s - loss: 0.2801 - accuracy: 0.89 - ETA: 1s - loss: 0.2798 - accuracy: 0.89 - ETA: 1s - loss: 0.2790 - accuracy: 0.89 - ETA: 1s - loss: 0.2791 - accuracy: 0.89 - ETA: 1s - loss: 0.2792 - accuracy: 0.89 - ETA: 1s - loss: 0.2794 - accuracy: 0.89 - ETA: 1s - loss: 0.2791 - accuracy: 0.89 - ETA: 1s - loss: 0.2793 - accuracy: 0.89 - ETA: 1s - loss: 0.2793 - accuracy: 0.89 - ETA: 1s - loss: 0.2787 - accuracy: 0.89 - ETA: 1s - loss: 0.2788 - accuracy: 0.89 - ETA: 1s - loss: 0.2786 - accuracy: 0.89 - ETA: 0s - loss: 0.2782 - accuracy: 0.89 - ETA: 0s - loss: 0.2777 - accuracy: 0.89 - ETA: 0s - loss: 0.2772 - accuracy: 0.89 - ETA: 0s - loss: 0.2771 - accuracy: 0.89 - ETA: 0s - loss: 0.2774 - accuracy: 0.89 - ETA: 0s - loss: 0.2766 - accuracy: 0.89 - ETA: 0s - loss: 0.2761 - accuracy: 0.89 - ETA: 0s - loss: 0.2754 - accuracy: 0.89 - ETA: 0s - loss: 0.2751 - accuracy: 0.89 - ETA: 0s - loss: 0.2748 - accuracy: 0.89 - ETA: 0s - loss: 0.2747 - accuracy: 0.89 - ETA: 0s - loss: 0.2748 - accuracy: 0.89 - ETA: 0s - loss: 0.2752 - accuracy: 0.89 - ETA: 0s - loss: 0.2758 - accuracy: 0.89 - ETA: 0s - loss: 0.2769 - accuracy: 0.89 - ETA: 0s - loss: 0.2769 - accuracy: 0.89 - ETA: 0s - loss: 0.2762 - accuracy: 0.89 - ETA: 0s - loss: 0.2762 - accuracy: 0.89 - ETA: 0s - loss: 0.2763 - accuracy: 0.89 - ETA: 0s - loss: 0.2757 - accuracy: 0.89 - ETA: 0s - loss: 0.2754 - accuracy: 0.89 - ETA: 0s - loss: 0.2749 - accuracy: 0.89 - 3s 3ms/step - loss: 0.2749 - accuracy: 0.8977\n",
      "Epoch 3/5\n",
      "938/938 [==============================] - ETA: 2:14 - loss: 0.3281 - accuracy: 0.87 - ETA: 11s - loss: 0.2916 - accuracy: 0.8867 - ETA: 7s - loss: 0.2633 - accuracy: 0.898 - ETA: 5s - loss: 0.2597 - accuracy: 0.90 - ETA: 4s - loss: 0.2546 - accuracy: 0.90 - ETA: 4s - loss: 0.2627 - accuracy: 0.90 - ETA: 4s - loss: 0.2637 - accuracy: 0.90 - ETA: 3s - loss: 0.2658 - accuracy: 0.90 - ETA: 3s - loss: 0.2684 - accuracy: 0.89 - ETA: 3s - loss: 0.2654 - accuracy: 0.90 - ETA: 3s - loss: 0.2654 - accuracy: 0.90 - ETA: 3s - loss: 0.2637 - accuracy: 0.90 - ETA: 3s - loss: 0.2660 - accuracy: 0.89 - ETA: 3s - loss: 0.2675 - accuracy: 0.89 - ETA: 3s - loss: 0.2659 - accuracy: 0.89 - ETA: 3s - loss: 0.2667 - accuracy: 0.89 - ETA: 2s - loss: 0.2687 - accuracy: 0.89 - ETA: 2s - loss: 0.2680 - accuracy: 0.89 - ETA: 2s - loss: 0.2705 - accuracy: 0.89 - ETA: 2s - loss: 0.2693 - accuracy: 0.89 - ETA: 2s - loss: 0.2700 - accuracy: 0.89 - ETA: 2s - loss: 0.2705 - accuracy: 0.89 - ETA: 2s - loss: 0.2707 - accuracy: 0.89 - ETA: 2s - loss: 0.2701 - accuracy: 0.89 - ETA: 2s - loss: 0.2697 - accuracy: 0.89 - ETA: 2s - loss: 0.2698 - accuracy: 0.89 - ETA: 2s - loss: 0.2702 - accuracy: 0.89 - ETA: 2s - loss: 0.2694 - accuracy: 0.89 - ETA: 2s - loss: 0.2710 - accuracy: 0.89 - ETA: 2s - loss: 0.2710 - accuracy: 0.89 - ETA: 2s - loss: 0.2716 - accuracy: 0.89 - ETA: 1s - loss: 0.2720 - accuracy: 0.89 - ETA: 1s - loss: 0.2714 - accuracy: 0.89 - ETA: 1s - loss: 0.2708 - accuracy: 0.89 - ETA: 1s - loss: 0.2703 - accuracy: 0.89 - ETA: 1s - loss: 0.2704 - accuracy: 0.89 - ETA: 1s - loss: 0.2695 - accuracy: 0.89 - ETA: 1s - loss: 0.2690 - accuracy: 0.89 - ETA: 1s - loss: 0.2688 - accuracy: 0.89 - ETA: 1s - loss: 0.2682 - accuracy: 0.89 - ETA: 1s - loss: 0.2673 - accuracy: 0.89 - ETA: 1s - loss: 0.2673 - accuracy: 0.89 - ETA: 1s - loss: 0.2679 - accuracy: 0.89 - ETA: 1s - loss: 0.2673 - accuracy: 0.89 - ETA: 1s - loss: 0.2675 - accuracy: 0.89 - ETA: 1s - loss: 0.2663 - accuracy: 0.89 - ETA: 1s - loss: 0.2663 - accuracy: 0.89 - ETA: 1s - loss: 0.2660 - accuracy: 0.89 - ETA: 1s - loss: 0.2657 - accuracy: 0.89 - ETA: 0s - loss: 0.2657 - accuracy: 0.89 - ETA: 0s - loss: 0.2648 - accuracy: 0.90 - ETA: 0s - loss: 0.2654 - accuracy: 0.89 - ETA: 0s - loss: 0.2652 - accuracy: 0.90 - ETA: 0s - loss: 0.2649 - accuracy: 0.90 - ETA: 0s - loss: 0.2642 - accuracy: 0.90 - ETA: 0s - loss: 0.2638 - accuracy: 0.90 - ETA: 0s - loss: 0.2643 - accuracy: 0.90 - ETA: 0s - loss: 0.2642 - accuracy: 0.90 - ETA: 0s - loss: 0.2641 - accuracy: 0.90 - ETA: 0s - loss: 0.2642 - accuracy: 0.90 - ETA: 0s - loss: 0.2643 - accuracy: 0.90 - ETA: 0s - loss: 0.2638 - accuracy: 0.90 - ETA: 0s - loss: 0.2645 - accuracy: 0.90 - ETA: 0s - loss: 0.2643 - accuracy: 0.90 - ETA: 0s - loss: 0.2636 - accuracy: 0.90 - ETA: 0s - loss: 0.2641 - accuracy: 0.90 - 4s 4ms/step - loss: 0.2641 - accuracy: 0.9010\n",
      "Epoch 4/5\n",
      "938/938 [==============================] - ETA: 2:27 - loss: 0.3040 - accuracy: 0.85 - ETA: 12s - loss: 0.2410 - accuracy: 0.9131 - ETA: 7s - loss: 0.2519 - accuracy: 0.907 - ETA: 5s - loss: 0.2494 - accuracy: 0.90 - ETA: 5s - loss: 0.2562 - accuracy: 0.90 - ETA: 4s - loss: 0.2586 - accuracy: 0.90 - ETA: 4s - loss: 0.2596 - accuracy: 0.90 - ETA: 3s - loss: 0.2568 - accuracy: 0.90 - ETA: 3s - loss: 0.2546 - accuracy: 0.90 - ETA: 3s - loss: 0.2537 - accuracy: 0.90 - ETA: 3s - loss: 0.2551 - accuracy: 0.90 - ETA: 3s - loss: 0.2567 - accuracy: 0.90 - ETA: 3s - loss: 0.2598 - accuracy: 0.90 - ETA: 2s - loss: 0.2595 - accuracy: 0.90 - ETA: 2s - loss: 0.2576 - accuracy: 0.90 - ETA: 2s - loss: 0.2571 - accuracy: 0.90 - ETA: 2s - loss: 0.2571 - accuracy: 0.90 - ETA: 2s - loss: 0.2576 - accuracy: 0.90 - ETA: 2s - loss: 0.2591 - accuracy: 0.90 - ETA: 2s - loss: 0.2571 - accuracy: 0.90 - ETA: 2s - loss: 0.2589 - accuracy: 0.90 - ETA: 2s - loss: 0.2580 - accuracy: 0.90 - ETA: 2s - loss: 0.2571 - accuracy: 0.90 - ETA: 2s - loss: 0.2572 - accuracy: 0.90 - ETA: 2s - loss: 0.2561 - accuracy: 0.90 - ETA: 2s - loss: 0.2560 - accuracy: 0.90 - ETA: 1s - loss: 0.2574 - accuracy: 0.90 - ETA: 1s - loss: 0.2567 - accuracy: 0.90 - ETA: 1s - loss: 0.2575 - accuracy: 0.90 - ETA: 1s - loss: 0.2581 - accuracy: 0.90 - ETA: 1s - loss: 0.2583 - accuracy: 0.90 - ETA: 1s - loss: 0.2581 - accuracy: 0.90 - ETA: 1s - loss: 0.2582 - accuracy: 0.90 - ETA: 1s - loss: 0.2576 - accuracy: 0.90 - ETA: 1s - loss: 0.2572 - accuracy: 0.90 - ETA: 1s - loss: 0.2570 - accuracy: 0.90 - ETA: 1s - loss: 0.2567 - accuracy: 0.90 - ETA: 1s - loss: 0.2561 - accuracy: 0.90 - ETA: 1s - loss: 0.2554 - accuracy: 0.90 - ETA: 1s - loss: 0.2544 - accuracy: 0.90 - ETA: 1s - loss: 0.2548 - accuracy: 0.90 - ETA: 0s - loss: 0.2549 - accuracy: 0.90 - ETA: 0s - loss: 0.2542 - accuracy: 0.90 - ETA: 0s - loss: 0.2535 - accuracy: 0.90 - ETA: 0s - loss: 0.2538 - accuracy: 0.90 - ETA: 0s - loss: 0.2533 - accuracy: 0.90 - ETA: 0s - loss: 0.2531 - accuracy: 0.90 - ETA: 0s - loss: 0.2526 - accuracy: 0.90 - ETA: 0s - loss: 0.2526 - accuracy: 0.90 - ETA: 0s - loss: 0.2527 - accuracy: 0.90 - ETA: 0s - loss: 0.2534 - accuracy: 0.90 - ETA: 0s - loss: 0.2537 - accuracy: 0.90 - ETA: 0s - loss: 0.2536 - accuracy: 0.90 - ETA: 0s - loss: 0.2536 - accuracy: 0.90 - ETA: 0s - loss: 0.2540 - accuracy: 0.90 - ETA: 0s - loss: 0.2538 - accuracy: 0.90 - ETA: 0s - loss: 0.2532 - accuracy: 0.90 - ETA: 0s - loss: 0.2534 - accuracy: 0.90 - 3s 3ms/step - loss: 0.2536 - accuracy: 0.9065\n",
      "Epoch 5/5\n",
      "938/938 [==============================] - ETA: 1:38 - loss: 0.3404 - accuracy: 0.92 - ETA: 7s - loss: 0.2715 - accuracy: 0.9005 - ETA: 5s - loss: 0.2502 - accuracy: 0.90 - ETA: 4s - loss: 0.2496 - accuracy: 0.90 - ETA: 3s - loss: 0.2585 - accuracy: 0.90 - ETA: 3s - loss: 0.2512 - accuracy: 0.90 - ETA: 3s - loss: 0.2458 - accuracy: 0.90 - ETA: 3s - loss: 0.2447 - accuracy: 0.90 - ETA: 2s - loss: 0.2477 - accuracy: 0.90 - ETA: 2s - loss: 0.2467 - accuracy: 0.90 - ETA: 2s - loss: 0.2493 - accuracy: 0.90 - ETA: 2s - loss: 0.2507 - accuracy: 0.90 - ETA: 2s - loss: 0.2502 - accuracy: 0.90 - ETA: 2s - loss: 0.2495 - accuracy: 0.90 - ETA: 2s - loss: 0.2519 - accuracy: 0.90 - ETA: 2s - loss: 0.2519 - accuracy: 0.90 - ETA: 2s - loss: 0.2515 - accuracy: 0.90 - ETA: 2s - loss: 0.2513 - accuracy: 0.90 - ETA: 2s - loss: 0.2509 - accuracy: 0.90 - ETA: 2s - loss: 0.2521 - accuracy: 0.90 - ETA: 1s - loss: 0.2522 - accuracy: 0.90 - ETA: 1s - loss: 0.2512 - accuracy: 0.90 - ETA: 1s - loss: 0.2501 - accuracy: 0.90 - ETA: 1s - loss: 0.2493 - accuracy: 0.90 - ETA: 1s - loss: 0.2496 - accuracy: 0.90 - ETA: 1s - loss: 0.2492 - accuracy: 0.90 - ETA: 1s - loss: 0.2477 - accuracy: 0.90 - ETA: 1s - loss: 0.2476 - accuracy: 0.90 - ETA: 1s - loss: 0.2485 - accuracy: 0.90 - ETA: 1s - loss: 0.2482 - accuracy: 0.90 - ETA: 1s - loss: 0.2485 - accuracy: 0.90 - ETA: 1s - loss: 0.2473 - accuracy: 0.90 - ETA: 1s - loss: 0.2473 - accuracy: 0.90 - ETA: 1s - loss: 0.2479 - accuracy: 0.90 - ETA: 1s - loss: 0.2478 - accuracy: 0.90 - ETA: 0s - loss: 0.2470 - accuracy: 0.90 - ETA: 0s - loss: 0.2470 - accuracy: 0.90 - ETA: 0s - loss: 0.2476 - accuracy: 0.90 - ETA: 0s - loss: 0.2477 - accuracy: 0.90 - ETA: 0s - loss: 0.2477 - accuracy: 0.90 - ETA: 0s - loss: 0.2478 - accuracy: 0.90 - ETA: 0s - loss: 0.2469 - accuracy: 0.90 - ETA: 0s - loss: 0.2468 - accuracy: 0.90 - ETA: 0s - loss: 0.2472 - accuracy: 0.90 - ETA: 0s - loss: 0.2467 - accuracy: 0.90 - ETA: 0s - loss: 0.2467 - accuracy: 0.90 - ETA: 0s - loss: 0.2469 - accuracy: 0.90 - ETA: 0s - loss: 0.2467 - accuracy: 0.90 - ETA: 0s - loss: 0.2460 - accuracy: 0.90 - ETA: 0s - loss: 0.2465 - accuracy: 0.90 - ETA: 0s - loss: 0.2462 - accuracy: 0.90 - ETA: 0s - loss: 0.2459 - accuracy: 0.90 - ETA: 0s - loss: 0.2458 - accuracy: 0.90 - 3s 3ms/step - loss: 0.2457 - accuracy: 0.9071\n"
     ]
    }
   ],
   "source": [
    "model.compile(optimizer = 'adam', loss = 'sparse_categorical_crossentropy', metrics = ['accuracy'])\n",
    "\n",
    "EPOCHS = 5\n",
    "\n",
    "history = model.fit(training_batch, epochs = EPOCHS)"
   ]
  },
  {
   "cell_type": "markdown",
   "metadata": {},
   "source": [
    "## Evaluate Loss and Accuracy on the Test Set\n",
    "\n",
    "Now let's see how the model performs on the test set. This time, we will use all the examples in our test set to assess the loss and accuracy of our model. Remember, the images in the test are images the model has never seen before."
   ]
  },
  {
   "cell_type": "code",
   "execution_count": 28,
   "metadata": {},
   "outputs": [
    {
     "name": "stdout",
     "output_type": "stream",
     "text": [
      "    157/Unknown - 0s 4ms/step - loss: 0.1652 - accuracy: 0.937 - 0s 5ms/step - loss: 0.3619 - accuracy: 0.867 - 0s 5ms/step - loss: 0.3561 - accuracy: 0.869 - 0s 6ms/step - loss: 0.3679 - accuracy: 0.863 - 0s 6ms/step - loss: 0.3399 - accuracy: 0.871 - 0s 6ms/step - loss: 0.3247 - accuracy: 0.877 - 0s 6ms/step - loss: 0.3138 - accuracy: 0.881 - 0s 6ms/step - loss: 0.3349 - accuracy: 0.877 - 0s 6ms/step - loss: 0.3395 - accuracy: 0.876 - 0s 6ms/step - loss: 0.3504 - accuracy: 0.871 - 0s 7ms/step - loss: 0.3400 - accuracy: 0.876 - 0s 6ms/step - loss: 0.3450 - accuracy: 0.876 - 0s 6ms/step - loss: 0.3386 - accuracy: 0.876 - 0s 6ms/step - loss: 0.3368 - accuracy: 0.878 - 0s 6ms/step - loss: 0.3242 - accuracy: 0.882 - 0s 6ms/step - loss: 0.3216 - accuracy: 0.881 - 0s 6ms/step - loss: 0.3208 - accuracy: 0.881 - 0s 6ms/step - loss: 0.3206 - accuracy: 0.882 - 0s 6ms/step - loss: 0.3259 - accuracy: 0.880 - 0s 6ms/step - loss: 0.3228 - accuracy: 0.882 - 0s 6ms/step - loss: 0.3209 - accuracy: 0.883 - 0s 6ms/step - loss: 0.3255 - accuracy: 0.883 - 0s 6ms/step - loss: 0.3249 - accuracy: 0.883 - 0s 6ms/step - loss: 0.3208 - accuracy: 0.886 - 0s 6ms/step - loss: 0.3170 - accuracy: 0.888 - 0s 6ms/step - loss: 0.3195 - accuracy: 0.886 - 0s 6ms/step - loss: 0.3207 - accuracy: 0.886 - 0s 6ms/step - loss: 0.3209 - accuracy: 0.885 - 0s 6ms/step - loss: 0.3227 - accuracy: 0.884 - 0s 6ms/step - loss: 0.3238 - accuracy: 0.884 - 0s 6ms/step - loss: 0.3262 - accuracy: 0.884 - 0s 6ms/step - loss: 0.3289 - accuracy: 0.882 - 0s 6ms/step - loss: 0.3291 - accuracy: 0.883 - 0s 6ms/step - loss: 0.3231 - accuracy: 0.885 - 0s 6ms/step - loss: 0.3198 - accuracy: 0.885 - 0s 6ms/step - loss: 0.3191 - accuracy: 0.885 - 0s 6ms/step - loss: 0.3176 - accuracy: 0.885 - 0s 6ms/step - loss: 0.3244 - accuracy: 0.884 - 0s 6ms/step - loss: 0.3288 - accuracy: 0.883 - 0s 6ms/step - loss: 0.3269 - accuracy: 0.885 - 0s 6ms/step - loss: 0.3297 - accuracy: 0.884 - 0s 6ms/step - loss: 0.3257 - accuracy: 0.885 - 0s 6ms/step - loss: 0.3249 - accuracy: 0.885 - 0s 6ms/step - loss: 0.3276 - accuracy: 0.885 - 0s 6ms/step - loss: 0.3252 - accuracy: 0.886 - 0s 6ms/step - loss: 0.3257 - accuracy: 0.884 - 0s 6ms/step - loss: 0.3239 - accuracy: 0.885 - 0s 6ms/step - loss: 0.3245 - accuracy: 0.885 - 0s 6ms/step - loss: 0.3227 - accuracy: 0.885 - 0s 6ms/step - loss: 0.3228 - accuracy: 0.885 - 0s 6ms/step - loss: 0.3241 - accuracy: 0.886 - 0s 6ms/step - loss: 0.3225 - accuracy: 0.886 - 0s 6ms/step - loss: 0.3197 - accuracy: 0.887 - 0s 6ms/step - loss: 0.3185 - accuracy: 0.887 - 0s 6ms/step - loss: 0.3186 - accuracy: 0.886 - 0s 6ms/step - loss: 0.3195 - accuracy: 0.887 - 0s 6ms/step - loss: 0.3210 - accuracy: 0.887 - 0s 6ms/step - loss: 0.3174 - accuracy: 0.888 - 0s 6ms/step - loss: 0.3182 - accuracy: 0.888 - 0s 6ms/step - loss: 0.3196 - accuracy: 0.888 - 0s 6ms/step - loss: 0.3208 - accuracy: 0.887 - 0s 6ms/step - loss: 0.3201 - accuracy: 0.888 - 0s 6ms/step - loss: 0.3191 - accuracy: 0.889 - 0s 6ms/step - loss: 0.3202 - accuracy: 0.889 - 0s 6ms/step - loss: 0.3256 - accuracy: 0.887 - 0s 6ms/step - loss: 0.3299 - accuracy: 0.887 - 0s 6ms/step - loss: 0.3314 - accuracy: 0.887 - 0s 6ms/step - loss: 0.3297 - accuracy: 0.887 - 0s 6ms/step - loss: 0.3317 - accuracy: 0.886 - 0s 6ms/step - loss: 0.3294 - accuracy: 0.887 - 0s 6ms/step - loss: 0.3298 - accuracy: 0.887 - 0s 6ms/step - loss: 0.3306 - accuracy: 0.886 - 0s 6ms/step - loss: 0.3300 - accuracy: 0.887 - 0s 6ms/step - loss: 0.3299 - accuracy: 0.886 - 0s 6ms/step - loss: 0.3281 - accuracy: 0.886 - 0s 6ms/step - loss: 0.3269 - accuracy: 0.886 - 0s 6ms/step - loss: 0.3288 - accuracy: 0.886 - 0s 6ms/step - loss: 0.3299 - accuracy: 0.886 - 0s 6ms/step - loss: 0.3322 - accuracy: 0.885 - 0s 6ms/step - loss: 0.3328 - accuracy: 0.885 - 0s 6ms/step - loss: 0.3315 - accuracy: 0.885 - 0s 6ms/step - loss: 0.3304 - accuracy: 0.886 - 1s 6ms/step - loss: 0.3309 - accuracy: 0.885 - 1s 6ms/step - loss: 0.3308 - accuracy: 0.885 - 1s 6ms/step - loss: 0.3310 - accuracy: 0.885 - 1s 6ms/step - loss: 0.3286 - accuracy: 0.886 - 1s 6ms/step - loss: 0.3275 - accuracy: 0.886 - 1s 6ms/step - loss: 0.3292 - accuracy: 0.886 - 1s 6ms/step - loss: 0.3295 - accuracy: 0.885 - 1s 6ms/step - loss: 0.3273 - accuracy: 0.886 - 1s 6ms/step - loss: 0.3261 - accuracy: 0.886 - 1s 6ms/step - loss: 0.3254 - accuracy: 0.886 - 1s 6ms/step - loss: 0.3275 - accuracy: 0.886 - 1s 6ms/step - loss: 0.3263 - accuracy: 0.886 - 1s 6ms/step - loss: 0.3266 - accuracy: 0.886 - 1s 6ms/step - loss: 0.3260 - accuracy: 0.886 - 1s 6ms/step - loss: 0.3265 - accuracy: 0.886 - 1s 6ms/step - loss: 0.3270 - accuracy: 0.886 - 1s 6ms/step - loss: 0.3284 - accuracy: 0.886 - 1s 6ms/step - loss: 0.3263 - accuracy: 0.886 - 1s 6ms/step - loss: 0.3259 - accuracy: 0.886 - 1s 6ms/step - loss: 0.3249 - accuracy: 0.886 - 1s 6ms/step - loss: 0.3252 - accuracy: 0.886 - 1s 6ms/step - loss: 0.3250 - accuracy: 0.886 - 1s 6ms/step - loss: 0.3257 - accuracy: 0.886 - 1s 6ms/step - loss: 0.3270 - accuracy: 0.885 - 1s 6ms/step - loss: 0.3271 - accuracy: 0.886 - 1s 6ms/step - loss: 0.3273 - accuracy: 0.886 - 1s 6ms/step - loss: 0.3263 - accuracy: 0.886 - 1s 6ms/step - loss: 0.3255 - accuracy: 0.887 - 1s 6ms/step - loss: 0.3264 - accuracy: 0.887 - 1s 6ms/step - loss: 0.3255 - accuracy: 0.886 - 1s 6ms/step - loss: 0.3261 - accuracy: 0.887 - 1s 6ms/step - loss: 0.3277 - accuracy: 0.886 - 1s 6ms/step - loss: 0.3268 - accuracy: 0.887 - 1s 6ms/step - loss: 0.3270 - accuracy: 0.887 - 1s 6ms/step - loss: 0.3264 - accuracy: 0.887 - 1s 6ms/step - loss: 0.3273 - accuracy: 0.887 - 1s 6ms/step - loss: 0.3294 - accuracy: 0.886 - 1s 6ms/step - loss: 0.3287 - accuracy: 0.886 - 1s 6ms/step - loss: 0.3295 - accuracy: 0.886 - 1s 6ms/step - loss: 0.3295 - accuracy: 0.886 - 1s 6ms/step - loss: 0.3282 - accuracy: 0.886 - 1s 6ms/step - loss: 0.3284 - accuracy: 0.886 - 1s 6ms/step - loss: 0.3271 - accuracy: 0.886 - 1s 6ms/step - loss: 0.3261 - accuracy: 0.887 - 1s 6ms/step - loss: 0.3263 - accuracy: 0.886 - 1s 6ms/step - loss: 0.3248 - accuracy: 0.887 - 1s 6ms/step - loss: 0.3248 - accuracy: 0.886 - 1s 6ms/step - loss: 0.3242 - accuracy: 0.886 - 1s 6ms/step - loss: 0.3236 - accuracy: 0.886 - 1s 6ms/step - loss: 0.3241 - accuracy: 0.887 - 1s 6ms/step - loss: 0.3246 - accuracy: 0.886 - 1s 6ms/step - loss: 0.3246 - accuracy: 0.886 - 1s 6ms/step - loss: 0.3251 - accuracy: 0.886 - 1s 6ms/step - loss: 0.3241 - accuracy: 0.886 - 1s 6ms/step - loss: 0.3229 - accuracy: 0.886 - 1s 6ms/step - loss: 0.3228 - accuracy: 0.886 - 1s 6ms/step - loss: 0.3231 - accuracy: 0.886 - 1s 6ms/step - loss: 0.3236 - accuracy: 0.885 - 1s 6ms/step - loss: 0.3233 - accuracy: 0.886 - 1s 6ms/step - loss: 0.3224 - accuracy: 0.886 - 1s 6ms/step - loss: 0.3208 - accuracy: 0.886 - 1s 6ms/step - loss: 0.3210 - accuracy: 0.886 - 1s 6ms/step - loss: 0.3227 - accuracy: 0.886 - 1s 6ms/step - loss: 0.3227 - accuracy: 0.886 - 1s 6ms/step - loss: 0.3227 - accuracy: 0.886 - 1s 6ms/step - loss: 0.3227 - accuracy: 0.886 - 1s 6ms/step - loss: 0.3237 - accuracy: 0.885 - 1s 6ms/step - loss: 0.3251 - accuracy: 0.885 - 1s 6ms/step - loss: 0.3269 - accuracy: 0.884 - 1s 6ms/step - loss: 0.3269 - accuracy: 0.884 - 1s 6ms/step - loss: 0.3267 - accuracy: 0.884 - 1s 6ms/step - loss: 0.3268 - accuracy: 0.884 - 1s 6ms/step - loss: 0.3271 - accuracy: 0.884 - 1s 6ms/step - loss: 0.3267 - accuracy: 0.884 - 1s 6ms/step - loss: 0.3306 - accuracy: 0.883 - 1s 6ms/step - loss: 0.3306 - accuracy: 0.8837"
     ]
    }
   ],
   "source": [
    "loss, accuracy = model.evaluate(testing_batch)"
   ]
  },
  {
   "cell_type": "code",
   "execution_count": 29,
   "metadata": {},
   "outputs": [
    {
     "name": "stdout",
     "output_type": "stream",
     "text": [
      "\n",
      "The Loss of the Test set: 0.331\n",
      "The Accuracy of the Test set: 88.370%\n"
     ]
    }
   ],
   "source": [
    "print(f'\\nThe Loss of the Test set: {loss:.3f}')\n",
    "print(f'The Accuracy of the Test set: {accuracy:.3%}')"
   ]
  },
  {
   "cell_type": "markdown",
   "metadata": {},
   "source": [
    "## Check Predictions"
   ]
  },
  {
   "cell_type": "code",
   "execution_count": 43,
   "metadata": {},
   "outputs": [
    {
     "data": {
      "image/png": "[encoded data removed]",
      "text/plain": [
       "<Figure size 432x648 with 2 Axes>"
      ]
     },
     "metadata": {
      "image/png": {
       "height": 215,
       "width": 424
      },
      "needs_background": "light"
     },
     "output_type": "display_data"
    }
   ],
   "source": [
    "for image_batch, label_batch in testing_batch.take(1):\n",
    "    ps = model.predict(image_batch)\n",
    "    first_image = image_batch.numpy().squeeze()[0]\n",
    "    first_label = label_batch.numpy()[0]\n",
    "    \n",
    "fig, (ax1, ax2) = plt.subplots(figsize = (6,9), ncols = 2)\n",
    "ax1.imshow(first_image, cmap = plt.cm.binary)\n",
    "ax1.axis('off')\n",
    "ax1.set_title(class_names[first_label])\n",
    "ax2.barh(np.arange(10), ps[0])  \n",
    "ax2.set_aspect(0.1)\n",
    "ax2.set_yticks(np.arange(10))\n",
    "ax2.set_yticklabels(class_names, size = 'small');\n",
    "ax2.set_title('Class Probability')\n",
    "ax2.set_xlim(0,1.1)\n",
    "plt.tight_layout()"
   ]
  },
  {
   "cell_type": "code",
   "execution_count": null,
   "metadata": {},
   "outputs": [],
   "source": []
  }
 ],
 "metadata": {
  "kernelspec": {
   "display_name": "Python 3",
   "language": "python",
   "name": "python3"
  },
  "language_info": {
   "codemirror_mode": {
    "name": "ipython",
    "version": 3
   },
   "file_extension": ".py",
   "mimetype": "text/x-python",
   "name": "python",
   "nbconvert_exporter": "python",
   "pygments_lexer": "ipython3",
   "version": "3.7.3"
  }
 },
 "nbformat": 4,
 "nbformat_minor": 2
}
